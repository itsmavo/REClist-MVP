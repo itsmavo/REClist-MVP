{
  "nbformat": 4,
  "nbformat_minor": 0,
  "metadata": {
    "colab": {
      "provenance": []
    },
    "kernelspec": {
      "name": "python3",
      "display_name": "Python 3"
    },
    "language_info": {
      "name": "python"
    }
  },
  "cells": [
    {
      "cell_type": "code",
      "execution_count": null,
      "metadata": {
        "id": "ybWB9F4OPtyO"
      },
      "outputs": [],
      "source": [
        "# Importing the necessary libraries\n",
        "import time\n",
        "import pandas as pd\n",
        "import numpy as np\n",
        "import seaborn as sns\n",
        "import matplotlib.pyplot as plt\n",
        "import matplotlib.ticker as plticker\n",
        "from imblearn.over_sampling import SMOTE\n",
        "%matplotlib inline"
      ]
    },
    {
      "cell_type": "code",
      "source": [
        "# Importing playlist dataframes\n",
        "df = pd.read_csv('encoded_playlist_songs.csv')\n",
        "df_fav = pd.read_csv('favorite_songs.csv')"
      ],
      "metadata": {
        "id": "nJQeGZt2QMFB"
      },
      "execution_count": null,
      "outputs": []
    },
    {
      "cell_type": "markdown",
      "source": [
        "# Preparing data for the model"
      ],
      "metadata": {
        "id": "NkIcUJbLuCpL"
      }
    },
    {
      "cell_type": "code",
      "source": [
        "# Remove song name, artist, album\n",
        "df = pd.concat([df, df_fav], axis=0)\n",
        "df.shape"
      ],
      "metadata": {
        "colab": {
          "base_uri": "https://localhost:8080/"
        },
        "id": "G5iH_pLZQOXQ",
        "outputId": "66f13257-fb61-4648-f70c-6ca20e4ac7b5"
      },
      "execution_count": null,
      "outputs": [
        {
          "output_type": "execute_result",
          "data": {
            "text/plain": [
              "(8933, 13)"
            ]
          },
          "metadata": {},
          "execution_count": 280
        }
      ]
    },
    {
      "cell_type": "code",
      "source": [
        "df.head()"
      ],
      "metadata": {
        "colab": {
          "base_uri": "https://localhost:8080/",
          "height": 270
        },
        "id": "WLJYcU7cQSuh",
        "outputId": "b0fcac56-fce5-4ee7-f845-72eba3b85c33"
      },
      "execution_count": null,
      "outputs": [
        {
          "output_type": "execute_result",
          "data": {
            "text/plain": [
              "                 track_id  length  popularity  danceability  acousticness  \\\n",
              "0  7MAibcTli4IisCtbHKrGMh  242096          90         0.586        0.1820   \n",
              "1  5QO79kh1waicV47BqGRL3g  215626          97         0.680        0.0212   \n",
              "2  1diS6nkxMQc3wwC4G1j0bh  165506          88         0.722        0.0319   \n",
              "3  4u4NyuceXP7Uzh7XFJKCr1  170813          89         0.658        0.0106   \n",
              "4  3Ofmpyhv5UAQ70mENzB277  132780          94         0.778        0.1750   \n",
              "\n",
              "   energy  instrumentalness  liveness  loudness  speechiness    tempo  \\\n",
              "0   0.616          0.000000    0.0927    -7.964       0.0324  148.088   \n",
              "1   0.826          0.000012    0.5430    -5.487       0.0309  118.051   \n",
              "2   0.588          0.000000    0.1830    -5.932       0.0544  134.010   \n",
              "3   0.634          0.000000    0.1320    -5.797       0.0413  139.980   \n",
              "4   0.695          0.000000    0.1500    -6.865       0.0913  149.996   \n",
              "\n",
              "   time_signature  favorite  \n",
              "0               4         0  \n",
              "1               4         0  \n",
              "2               4         0  \n",
              "3               4         0  \n",
              "4               4         0  "
            ],
            "text/html": [
              "\n",
              "  <div id=\"df-c896a5d6-abcf-4c8a-9d1e-e69b37b7592e\">\n",
              "    <div class=\"colab-df-container\">\n",
              "      <div>\n",
              "<style scoped>\n",
              "    .dataframe tbody tr th:only-of-type {\n",
              "        vertical-align: middle;\n",
              "    }\n",
              "\n",
              "    .dataframe tbody tr th {\n",
              "        vertical-align: top;\n",
              "    }\n",
              "\n",
              "    .dataframe thead th {\n",
              "        text-align: right;\n",
              "    }\n",
              "</style>\n",
              "<table border=\"1\" class=\"dataframe\">\n",
              "  <thead>\n",
              "    <tr style=\"text-align: right;\">\n",
              "      <th></th>\n",
              "      <th>track_id</th>\n",
              "      <th>length</th>\n",
              "      <th>popularity</th>\n",
              "      <th>danceability</th>\n",
              "      <th>acousticness</th>\n",
              "      <th>energy</th>\n",
              "      <th>instrumentalness</th>\n",
              "      <th>liveness</th>\n",
              "      <th>loudness</th>\n",
              "      <th>speechiness</th>\n",
              "      <th>tempo</th>\n",
              "      <th>time_signature</th>\n",
              "      <th>favorite</th>\n",
              "    </tr>\n",
              "  </thead>\n",
              "  <tbody>\n",
              "    <tr>\n",
              "      <th>0</th>\n",
              "      <td>7MAibcTli4IisCtbHKrGMh</td>\n",
              "      <td>242096</td>\n",
              "      <td>90</td>\n",
              "      <td>0.586</td>\n",
              "      <td>0.1820</td>\n",
              "      <td>0.616</td>\n",
              "      <td>0.000000</td>\n",
              "      <td>0.0927</td>\n",
              "      <td>-7.964</td>\n",
              "      <td>0.0324</td>\n",
              "      <td>148.088</td>\n",
              "      <td>4</td>\n",
              "      <td>0</td>\n",
              "    </tr>\n",
              "    <tr>\n",
              "      <th>1</th>\n",
              "      <td>5QO79kh1waicV47BqGRL3g</td>\n",
              "      <td>215626</td>\n",
              "      <td>97</td>\n",
              "      <td>0.680</td>\n",
              "      <td>0.0212</td>\n",
              "      <td>0.826</td>\n",
              "      <td>0.000012</td>\n",
              "      <td>0.5430</td>\n",
              "      <td>-5.487</td>\n",
              "      <td>0.0309</td>\n",
              "      <td>118.051</td>\n",
              "      <td>4</td>\n",
              "      <td>0</td>\n",
              "    </tr>\n",
              "    <tr>\n",
              "      <th>2</th>\n",
              "      <td>1diS6nkxMQc3wwC4G1j0bh</td>\n",
              "      <td>165506</td>\n",
              "      <td>88</td>\n",
              "      <td>0.722</td>\n",
              "      <td>0.0319</td>\n",
              "      <td>0.588</td>\n",
              "      <td>0.000000</td>\n",
              "      <td>0.1830</td>\n",
              "      <td>-5.932</td>\n",
              "      <td>0.0544</td>\n",
              "      <td>134.010</td>\n",
              "      <td>4</td>\n",
              "      <td>0</td>\n",
              "    </tr>\n",
              "    <tr>\n",
              "      <th>3</th>\n",
              "      <td>4u4NyuceXP7Uzh7XFJKCr1</td>\n",
              "      <td>170813</td>\n",
              "      <td>89</td>\n",
              "      <td>0.658</td>\n",
              "      <td>0.0106</td>\n",
              "      <td>0.634</td>\n",
              "      <td>0.000000</td>\n",
              "      <td>0.1320</td>\n",
              "      <td>-5.797</td>\n",
              "      <td>0.0413</td>\n",
              "      <td>139.980</td>\n",
              "      <td>4</td>\n",
              "      <td>0</td>\n",
              "    </tr>\n",
              "    <tr>\n",
              "      <th>4</th>\n",
              "      <td>3Ofmpyhv5UAQ70mENzB277</td>\n",
              "      <td>132780</td>\n",
              "      <td>94</td>\n",
              "      <td>0.778</td>\n",
              "      <td>0.1750</td>\n",
              "      <td>0.695</td>\n",
              "      <td>0.000000</td>\n",
              "      <td>0.1500</td>\n",
              "      <td>-6.865</td>\n",
              "      <td>0.0913</td>\n",
              "      <td>149.996</td>\n",
              "      <td>4</td>\n",
              "      <td>0</td>\n",
              "    </tr>\n",
              "  </tbody>\n",
              "</table>\n",
              "</div>\n",
              "      <button class=\"colab-df-convert\" onclick=\"convertToInteractive('df-c896a5d6-abcf-4c8a-9d1e-e69b37b7592e')\"\n",
              "              title=\"Convert this dataframe to an interactive table.\"\n",
              "              style=\"display:none;\">\n",
              "        \n",
              "  <svg xmlns=\"http://www.w3.org/2000/svg\" height=\"24px\"viewBox=\"0 0 24 24\"\n",
              "       width=\"24px\">\n",
              "    <path d=\"M0 0h24v24H0V0z\" fill=\"none\"/>\n",
              "    <path d=\"M18.56 5.44l.94 2.06.94-2.06 2.06-.94-2.06-.94-.94-2.06-.94 2.06-2.06.94zm-11 1L8.5 8.5l.94-2.06 2.06-.94-2.06-.94L8.5 2.5l-.94 2.06-2.06.94zm10 10l.94 2.06.94-2.06 2.06-.94-2.06-.94-.94-2.06-.94 2.06-2.06.94z\"/><path d=\"M17.41 7.96l-1.37-1.37c-.4-.4-.92-.59-1.43-.59-.52 0-1.04.2-1.43.59L10.3 9.45l-7.72 7.72c-.78.78-.78 2.05 0 2.83L4 21.41c.39.39.9.59 1.41.59.51 0 1.02-.2 1.41-.59l7.78-7.78 2.81-2.81c.8-.78.8-2.07 0-2.86zM5.41 20L4 18.59l7.72-7.72 1.47 1.35L5.41 20z\"/>\n",
              "  </svg>\n",
              "      </button>\n",
              "      \n",
              "  <style>\n",
              "    .colab-df-container {\n",
              "      display:flex;\n",
              "      flex-wrap:wrap;\n",
              "      gap: 12px;\n",
              "    }\n",
              "\n",
              "    .colab-df-convert {\n",
              "      background-color: #E8F0FE;\n",
              "      border: none;\n",
              "      border-radius: 50%;\n",
              "      cursor: pointer;\n",
              "      display: none;\n",
              "      fill: #1967D2;\n",
              "      height: 32px;\n",
              "      padding: 0 0 0 0;\n",
              "      width: 32px;\n",
              "    }\n",
              "\n",
              "    .colab-df-convert:hover {\n",
              "      background-color: #E2EBFA;\n",
              "      box-shadow: 0px 1px 2px rgba(60, 64, 67, 0.3), 0px 1px 3px 1px rgba(60, 64, 67, 0.15);\n",
              "      fill: #174EA6;\n",
              "    }\n",
              "\n",
              "    [theme=dark] .colab-df-convert {\n",
              "      background-color: #3B4455;\n",
              "      fill: #D2E3FC;\n",
              "    }\n",
              "\n",
              "    [theme=dark] .colab-df-convert:hover {\n",
              "      background-color: #434B5C;\n",
              "      box-shadow: 0px 1px 3px 1px rgba(0, 0, 0, 0.15);\n",
              "      filter: drop-shadow(0px 1px 2px rgba(0, 0, 0, 0.3));\n",
              "      fill: #FFFFFF;\n",
              "    }\n",
              "  </style>\n",
              "\n",
              "      <script>\n",
              "        const buttonEl =\n",
              "          document.querySelector('#df-c896a5d6-abcf-4c8a-9d1e-e69b37b7592e button.colab-df-convert');\n",
              "        buttonEl.style.display =\n",
              "          google.colab.kernel.accessAllowed ? 'block' : 'none';\n",
              "\n",
              "        async function convertToInteractive(key) {\n",
              "          const element = document.querySelector('#df-c896a5d6-abcf-4c8a-9d1e-e69b37b7592e');\n",
              "          const dataTable =\n",
              "            await google.colab.kernel.invokeFunction('convertToInteractive',\n",
              "                                                     [key], {});\n",
              "          if (!dataTable) return;\n",
              "\n",
              "          const docLinkHtml = 'Like what you see? Visit the ' +\n",
              "            '<a target=\"_blank\" href=https://colab.research.google.com/notebooks/data_table.ipynb>data table notebook</a>'\n",
              "            + ' to learn more about interactive tables.';\n",
              "          element.innerHTML = '';\n",
              "          dataTable['output_type'] = 'display_data';\n",
              "          await google.colab.output.renderOutput(dataTable, element);\n",
              "          const docLink = document.createElement('div');\n",
              "          docLink.innerHTML = docLinkHtml;\n",
              "          element.appendChild(docLink);\n",
              "        }\n",
              "      </script>\n",
              "    </div>\n",
              "  </div>\n",
              "  "
            ]
          },
          "metadata": {},
          "execution_count": 281
        }
      ]
    },
    {
      "cell_type": "code",
      "source": [
        "df['favorite'].value_counts()"
      ],
      "metadata": {
        "colab": {
          "base_uri": "https://localhost:8080/"
        },
        "id": "_eSAJPA9QWgV",
        "outputId": "55fe0a23-7541-4c70-f581-b9fd9262280a"
      },
      "execution_count": null,
      "outputs": [
        {
          "output_type": "execute_result",
          "data": {
            "text/plain": [
              "0    8883\n",
              "1      50\n",
              "Name: favorite, dtype: int64"
            ]
          },
          "metadata": {},
          "execution_count": 282
        }
      ]
    },
    {
      "cell_type": "markdown",
      "source": [
        "# Model Selection, Data Prepation and Hyperparameter Tuning"
      ],
      "metadata": {
        "id": "KOZr-y8EuK-b"
      }
    },
    {
      "cell_type": "code",
      "source": [
        "#Data Prep and Model Selection and Parameter Tuning\n",
        "#Importing required libraries\n",
        "import sklearn\n",
        "from sklearn.pipeline import Pipeline\n",
        "from sklearn.model_selection import cross_val_score\n",
        "from sklearn.model_selection import train_test_split\n",
        "from sklearn.model_selection import GridSearchCV\n",
        "from sklearn.metrics import confusion_matrix, ConfusionMatrixDisplay\n",
        "from sklearn import metrics\n",
        "from sklearn.metrics import f1_score\n",
        "# Models\n",
        "from sklearn.ensemble import RandomForestClassifier\n",
        "from sklearn.linear_model import LogisticRegression\n",
        "from sklearn.tree import DecisionTreeClassifier"
      ],
      "metadata": {
        "id": "NRL-w8_GQZKy"
      },
      "execution_count": null,
      "outputs": []
    },
    {
      "cell_type": "markdown",
      "source": [
        "# Creating and Training test sets"
      ],
      "metadata": {
        "id": "keXXORNV1N4Q"
      }
    },
    {
      "cell_type": "code",
      "source": [
        "# Creating training and test sets\n",
        "# Shuffle your dataset\n",
        "shuffle_df = df.sample(frac=1)\n",
        "\n",
        "# Define a size for your training set\n",
        "train_size = int(0.8 * len(df))\n",
        "\n",
        "# Split dataset\n",
        "train_set = shuffle_df[:train_size]\n",
        "test_set = shuffle_df[:train_size]"
      ],
      "metadata": {
        "id": "AWyNVmiDQ1OS"
      },
      "execution_count": null,
      "outputs": []
    },
    {
      "cell_type": "code",
      "source": [
        "train_set.head()"
      ],
      "metadata": {
        "colab": {
          "base_uri": "https://localhost:8080/",
          "height": 270
        },
        "id": "F8BCBkbpQ3dP",
        "outputId": "52f005cf-18fd-4dd5-cad9-ae1a6aa5b40e"
      },
      "execution_count": null,
      "outputs": [
        {
          "output_type": "execute_result",
          "data": {
            "text/plain": [
              "                    track_id  length  popularity  danceability  acousticness  \\\n",
              "3721  2t5m1jQhBn9IKziKQwFUc7  184306          28         0.646       0.05500   \n",
              "1355  52ySvuxscDGsXUVsci1Kpa  205296          66         0.877       0.02880   \n",
              "3801  6xwn1ce0YplRNLH2bFaYdg  274618           0         0.636       0.00117   \n",
              "1988  1pwWrPxonLIE12WWu9NzgU  222960          54         0.647       0.25800   \n",
              "4869  1upAhgDBWCV0AvUxgAU6SR  179349          50         0.389       0.82600   \n",
              "\n",
              "      energy  instrumentalness  liveness  loudness  speechiness    tempo  \\\n",
              "3721   0.914            0.0000    0.0985    -4.392       0.0409  152.002   \n",
              "1355   0.747            0.0000    0.2730    -5.873       0.3650  145.162   \n",
              "3801   0.781            0.0000    0.0346    -4.681       0.0517   83.002   \n",
              "1988   0.465            0.1490    0.1110   -10.272       0.0245   94.035   \n",
              "4869   0.408            0.0986    0.3830   -12.158       0.0538   74.183   \n",
              "\n",
              "      time_signature  favorite  \n",
              "3721               4         0  \n",
              "1355               4         0  \n",
              "3801               4         0  \n",
              "1988               4         0  \n",
              "4869               4         0  "
            ],
            "text/html": [
              "\n",
              "  <div id=\"df-214ae8de-f79d-4e20-89f0-7ed1a1442a2a\">\n",
              "    <div class=\"colab-df-container\">\n",
              "      <div>\n",
              "<style scoped>\n",
              "    .dataframe tbody tr th:only-of-type {\n",
              "        vertical-align: middle;\n",
              "    }\n",
              "\n",
              "    .dataframe tbody tr th {\n",
              "        vertical-align: top;\n",
              "    }\n",
              "\n",
              "    .dataframe thead th {\n",
              "        text-align: right;\n",
              "    }\n",
              "</style>\n",
              "<table border=\"1\" class=\"dataframe\">\n",
              "  <thead>\n",
              "    <tr style=\"text-align: right;\">\n",
              "      <th></th>\n",
              "      <th>track_id</th>\n",
              "      <th>length</th>\n",
              "      <th>popularity</th>\n",
              "      <th>danceability</th>\n",
              "      <th>acousticness</th>\n",
              "      <th>energy</th>\n",
              "      <th>instrumentalness</th>\n",
              "      <th>liveness</th>\n",
              "      <th>loudness</th>\n",
              "      <th>speechiness</th>\n",
              "      <th>tempo</th>\n",
              "      <th>time_signature</th>\n",
              "      <th>favorite</th>\n",
              "    </tr>\n",
              "  </thead>\n",
              "  <tbody>\n",
              "    <tr>\n",
              "      <th>3721</th>\n",
              "      <td>2t5m1jQhBn9IKziKQwFUc7</td>\n",
              "      <td>184306</td>\n",
              "      <td>28</td>\n",
              "      <td>0.646</td>\n",
              "      <td>0.05500</td>\n",
              "      <td>0.914</td>\n",
              "      <td>0.0000</td>\n",
              "      <td>0.0985</td>\n",
              "      <td>-4.392</td>\n",
              "      <td>0.0409</td>\n",
              "      <td>152.002</td>\n",
              "      <td>4</td>\n",
              "      <td>0</td>\n",
              "    </tr>\n",
              "    <tr>\n",
              "      <th>1355</th>\n",
              "      <td>52ySvuxscDGsXUVsci1Kpa</td>\n",
              "      <td>205296</td>\n",
              "      <td>66</td>\n",
              "      <td>0.877</td>\n",
              "      <td>0.02880</td>\n",
              "      <td>0.747</td>\n",
              "      <td>0.0000</td>\n",
              "      <td>0.2730</td>\n",
              "      <td>-5.873</td>\n",
              "      <td>0.3650</td>\n",
              "      <td>145.162</td>\n",
              "      <td>4</td>\n",
              "      <td>0</td>\n",
              "    </tr>\n",
              "    <tr>\n",
              "      <th>3801</th>\n",
              "      <td>6xwn1ce0YplRNLH2bFaYdg</td>\n",
              "      <td>274618</td>\n",
              "      <td>0</td>\n",
              "      <td>0.636</td>\n",
              "      <td>0.00117</td>\n",
              "      <td>0.781</td>\n",
              "      <td>0.0000</td>\n",
              "      <td>0.0346</td>\n",
              "      <td>-4.681</td>\n",
              "      <td>0.0517</td>\n",
              "      <td>83.002</td>\n",
              "      <td>4</td>\n",
              "      <td>0</td>\n",
              "    </tr>\n",
              "    <tr>\n",
              "      <th>1988</th>\n",
              "      <td>1pwWrPxonLIE12WWu9NzgU</td>\n",
              "      <td>222960</td>\n",
              "      <td>54</td>\n",
              "      <td>0.647</td>\n",
              "      <td>0.25800</td>\n",
              "      <td>0.465</td>\n",
              "      <td>0.1490</td>\n",
              "      <td>0.1110</td>\n",
              "      <td>-10.272</td>\n",
              "      <td>0.0245</td>\n",
              "      <td>94.035</td>\n",
              "      <td>4</td>\n",
              "      <td>0</td>\n",
              "    </tr>\n",
              "    <tr>\n",
              "      <th>4869</th>\n",
              "      <td>1upAhgDBWCV0AvUxgAU6SR</td>\n",
              "      <td>179349</td>\n",
              "      <td>50</td>\n",
              "      <td>0.389</td>\n",
              "      <td>0.82600</td>\n",
              "      <td>0.408</td>\n",
              "      <td>0.0986</td>\n",
              "      <td>0.3830</td>\n",
              "      <td>-12.158</td>\n",
              "      <td>0.0538</td>\n",
              "      <td>74.183</td>\n",
              "      <td>4</td>\n",
              "      <td>0</td>\n",
              "    </tr>\n",
              "  </tbody>\n",
              "</table>\n",
              "</div>\n",
              "      <button class=\"colab-df-convert\" onclick=\"convertToInteractive('df-214ae8de-f79d-4e20-89f0-7ed1a1442a2a')\"\n",
              "              title=\"Convert this dataframe to an interactive table.\"\n",
              "              style=\"display:none;\">\n",
              "        \n",
              "  <svg xmlns=\"http://www.w3.org/2000/svg\" height=\"24px\"viewBox=\"0 0 24 24\"\n",
              "       width=\"24px\">\n",
              "    <path d=\"M0 0h24v24H0V0z\" fill=\"none\"/>\n",
              "    <path d=\"M18.56 5.44l.94 2.06.94-2.06 2.06-.94-2.06-.94-.94-2.06-.94 2.06-2.06.94zm-11 1L8.5 8.5l.94-2.06 2.06-.94-2.06-.94L8.5 2.5l-.94 2.06-2.06.94zm10 10l.94 2.06.94-2.06 2.06-.94-2.06-.94-.94-2.06-.94 2.06-2.06.94z\"/><path d=\"M17.41 7.96l-1.37-1.37c-.4-.4-.92-.59-1.43-.59-.52 0-1.04.2-1.43.59L10.3 9.45l-7.72 7.72c-.78.78-.78 2.05 0 2.83L4 21.41c.39.39.9.59 1.41.59.51 0 1.02-.2 1.41-.59l7.78-7.78 2.81-2.81c.8-.78.8-2.07 0-2.86zM5.41 20L4 18.59l7.72-7.72 1.47 1.35L5.41 20z\"/>\n",
              "  </svg>\n",
              "      </button>\n",
              "      \n",
              "  <style>\n",
              "    .colab-df-container {\n",
              "      display:flex;\n",
              "      flex-wrap:wrap;\n",
              "      gap: 12px;\n",
              "    }\n",
              "\n",
              "    .colab-df-convert {\n",
              "      background-color: #E8F0FE;\n",
              "      border: none;\n",
              "      border-radius: 50%;\n",
              "      cursor: pointer;\n",
              "      display: none;\n",
              "      fill: #1967D2;\n",
              "      height: 32px;\n",
              "      padding: 0 0 0 0;\n",
              "      width: 32px;\n",
              "    }\n",
              "\n",
              "    .colab-df-convert:hover {\n",
              "      background-color: #E2EBFA;\n",
              "      box-shadow: 0px 1px 2px rgba(60, 64, 67, 0.3), 0px 1px 3px 1px rgba(60, 64, 67, 0.15);\n",
              "      fill: #174EA6;\n",
              "    }\n",
              "\n",
              "    [theme=dark] .colab-df-convert {\n",
              "      background-color: #3B4455;\n",
              "      fill: #D2E3FC;\n",
              "    }\n",
              "\n",
              "    [theme=dark] .colab-df-convert:hover {\n",
              "      background-color: #434B5C;\n",
              "      box-shadow: 0px 1px 3px 1px rgba(0, 0, 0, 0.15);\n",
              "      filter: drop-shadow(0px 1px 2px rgba(0, 0, 0, 0.3));\n",
              "      fill: #FFFFFF;\n",
              "    }\n",
              "  </style>\n",
              "\n",
              "      <script>\n",
              "        const buttonEl =\n",
              "          document.querySelector('#df-214ae8de-f79d-4e20-89f0-7ed1a1442a2a button.colab-df-convert');\n",
              "        buttonEl.style.display =\n",
              "          google.colab.kernel.accessAllowed ? 'block' : 'none';\n",
              "\n",
              "        async function convertToInteractive(key) {\n",
              "          const element = document.querySelector('#df-214ae8de-f79d-4e20-89f0-7ed1a1442a2a');\n",
              "          const dataTable =\n",
              "            await google.colab.kernel.invokeFunction('convertToInteractive',\n",
              "                                                     [key], {});\n",
              "          if (!dataTable) return;\n",
              "\n",
              "          const docLinkHtml = 'Like what you see? Visit the ' +\n",
              "            '<a target=\"_blank\" href=https://colab.research.google.com/notebooks/data_table.ipynb>data table notebook</a>'\n",
              "            + ' to learn more about interactive tables.';\n",
              "          element.innerHTML = '';\n",
              "          dataTable['output_type'] = 'display_data';\n",
              "          await google.colab.output.renderOutput(dataTable, element);\n",
              "          const docLink = document.createElement('div');\n",
              "          docLink.innerHTML = docLinkHtml;\n",
              "          element.appendChild(docLink);\n",
              "        }\n",
              "      </script>\n",
              "    </div>\n",
              "  </div>\n",
              "  "
            ]
          },
          "metadata": {},
          "execution_count": 285
        }
      ]
    },
    {
      "cell_type": "code",
      "source": [
        "X = train_set.drop(columns=['favorite', 'track_id'])\n",
        "Y = train_set.favorite\n",
        "\n",
        "X.head()"
      ],
      "metadata": {
        "colab": {
          "base_uri": "https://localhost:8080/",
          "height": 270
        },
        "id": "zdAZzlFlQ6bh",
        "outputId": "22dca509-0013-4e2d-f69d-651880991099"
      },
      "execution_count": null,
      "outputs": [
        {
          "output_type": "execute_result",
          "data": {
            "text/plain": [
              "      length  popularity  danceability  acousticness  energy  \\\n",
              "3721  184306          28         0.646       0.05500   0.914   \n",
              "1355  205296          66         0.877       0.02880   0.747   \n",
              "3801  274618           0         0.636       0.00117   0.781   \n",
              "1988  222960          54         0.647       0.25800   0.465   \n",
              "4869  179349          50         0.389       0.82600   0.408   \n",
              "\n",
              "      instrumentalness  liveness  loudness  speechiness    tempo  \\\n",
              "3721            0.0000    0.0985    -4.392       0.0409  152.002   \n",
              "1355            0.0000    0.2730    -5.873       0.3650  145.162   \n",
              "3801            0.0000    0.0346    -4.681       0.0517   83.002   \n",
              "1988            0.1490    0.1110   -10.272       0.0245   94.035   \n",
              "4869            0.0986    0.3830   -12.158       0.0538   74.183   \n",
              "\n",
              "      time_signature  \n",
              "3721               4  \n",
              "1355               4  \n",
              "3801               4  \n",
              "1988               4  \n",
              "4869               4  "
            ],
            "text/html": [
              "\n",
              "  <div id=\"df-f9ec8b23-bc82-4c88-8d7b-82f65d84af20\">\n",
              "    <div class=\"colab-df-container\">\n",
              "      <div>\n",
              "<style scoped>\n",
              "    .dataframe tbody tr th:only-of-type {\n",
              "        vertical-align: middle;\n",
              "    }\n",
              "\n",
              "    .dataframe tbody tr th {\n",
              "        vertical-align: top;\n",
              "    }\n",
              "\n",
              "    .dataframe thead th {\n",
              "        text-align: right;\n",
              "    }\n",
              "</style>\n",
              "<table border=\"1\" class=\"dataframe\">\n",
              "  <thead>\n",
              "    <tr style=\"text-align: right;\">\n",
              "      <th></th>\n",
              "      <th>length</th>\n",
              "      <th>popularity</th>\n",
              "      <th>danceability</th>\n",
              "      <th>acousticness</th>\n",
              "      <th>energy</th>\n",
              "      <th>instrumentalness</th>\n",
              "      <th>liveness</th>\n",
              "      <th>loudness</th>\n",
              "      <th>speechiness</th>\n",
              "      <th>tempo</th>\n",
              "      <th>time_signature</th>\n",
              "    </tr>\n",
              "  </thead>\n",
              "  <tbody>\n",
              "    <tr>\n",
              "      <th>3721</th>\n",
              "      <td>184306</td>\n",
              "      <td>28</td>\n",
              "      <td>0.646</td>\n",
              "      <td>0.05500</td>\n",
              "      <td>0.914</td>\n",
              "      <td>0.0000</td>\n",
              "      <td>0.0985</td>\n",
              "      <td>-4.392</td>\n",
              "      <td>0.0409</td>\n",
              "      <td>152.002</td>\n",
              "      <td>4</td>\n",
              "    </tr>\n",
              "    <tr>\n",
              "      <th>1355</th>\n",
              "      <td>205296</td>\n",
              "      <td>66</td>\n",
              "      <td>0.877</td>\n",
              "      <td>0.02880</td>\n",
              "      <td>0.747</td>\n",
              "      <td>0.0000</td>\n",
              "      <td>0.2730</td>\n",
              "      <td>-5.873</td>\n",
              "      <td>0.3650</td>\n",
              "      <td>145.162</td>\n",
              "      <td>4</td>\n",
              "    </tr>\n",
              "    <tr>\n",
              "      <th>3801</th>\n",
              "      <td>274618</td>\n",
              "      <td>0</td>\n",
              "      <td>0.636</td>\n",
              "      <td>0.00117</td>\n",
              "      <td>0.781</td>\n",
              "      <td>0.0000</td>\n",
              "      <td>0.0346</td>\n",
              "      <td>-4.681</td>\n",
              "      <td>0.0517</td>\n",
              "      <td>83.002</td>\n",
              "      <td>4</td>\n",
              "    </tr>\n",
              "    <tr>\n",
              "      <th>1988</th>\n",
              "      <td>222960</td>\n",
              "      <td>54</td>\n",
              "      <td>0.647</td>\n",
              "      <td>0.25800</td>\n",
              "      <td>0.465</td>\n",
              "      <td>0.1490</td>\n",
              "      <td>0.1110</td>\n",
              "      <td>-10.272</td>\n",
              "      <td>0.0245</td>\n",
              "      <td>94.035</td>\n",
              "      <td>4</td>\n",
              "    </tr>\n",
              "    <tr>\n",
              "      <th>4869</th>\n",
              "      <td>179349</td>\n",
              "      <td>50</td>\n",
              "      <td>0.389</td>\n",
              "      <td>0.82600</td>\n",
              "      <td>0.408</td>\n",
              "      <td>0.0986</td>\n",
              "      <td>0.3830</td>\n",
              "      <td>-12.158</td>\n",
              "      <td>0.0538</td>\n",
              "      <td>74.183</td>\n",
              "      <td>4</td>\n",
              "    </tr>\n",
              "  </tbody>\n",
              "</table>\n",
              "</div>\n",
              "      <button class=\"colab-df-convert\" onclick=\"convertToInteractive('df-f9ec8b23-bc82-4c88-8d7b-82f65d84af20')\"\n",
              "              title=\"Convert this dataframe to an interactive table.\"\n",
              "              style=\"display:none;\">\n",
              "        \n",
              "  <svg xmlns=\"http://www.w3.org/2000/svg\" height=\"24px\"viewBox=\"0 0 24 24\"\n",
              "       width=\"24px\">\n",
              "    <path d=\"M0 0h24v24H0V0z\" fill=\"none\"/>\n",
              "    <path d=\"M18.56 5.44l.94 2.06.94-2.06 2.06-.94-2.06-.94-.94-2.06-.94 2.06-2.06.94zm-11 1L8.5 8.5l.94-2.06 2.06-.94-2.06-.94L8.5 2.5l-.94 2.06-2.06.94zm10 10l.94 2.06.94-2.06 2.06-.94-2.06-.94-.94-2.06-.94 2.06-2.06.94z\"/><path d=\"M17.41 7.96l-1.37-1.37c-.4-.4-.92-.59-1.43-.59-.52 0-1.04.2-1.43.59L10.3 9.45l-7.72 7.72c-.78.78-.78 2.05 0 2.83L4 21.41c.39.39.9.59 1.41.59.51 0 1.02-.2 1.41-.59l7.78-7.78 2.81-2.81c.8-.78.8-2.07 0-2.86zM5.41 20L4 18.59l7.72-7.72 1.47 1.35L5.41 20z\"/>\n",
              "  </svg>\n",
              "      </button>\n",
              "      \n",
              "  <style>\n",
              "    .colab-df-container {\n",
              "      display:flex;\n",
              "      flex-wrap:wrap;\n",
              "      gap: 12px;\n",
              "    }\n",
              "\n",
              "    .colab-df-convert {\n",
              "      background-color: #E8F0FE;\n",
              "      border: none;\n",
              "      border-radius: 50%;\n",
              "      cursor: pointer;\n",
              "      display: none;\n",
              "      fill: #1967D2;\n",
              "      height: 32px;\n",
              "      padding: 0 0 0 0;\n",
              "      width: 32px;\n",
              "    }\n",
              "\n",
              "    .colab-df-convert:hover {\n",
              "      background-color: #E2EBFA;\n",
              "      box-shadow: 0px 1px 2px rgba(60, 64, 67, 0.3), 0px 1px 3px 1px rgba(60, 64, 67, 0.15);\n",
              "      fill: #174EA6;\n",
              "    }\n",
              "\n",
              "    [theme=dark] .colab-df-convert {\n",
              "      background-color: #3B4455;\n",
              "      fill: #D2E3FC;\n",
              "    }\n",
              "\n",
              "    [theme=dark] .colab-df-convert:hover {\n",
              "      background-color: #434B5C;\n",
              "      box-shadow: 0px 1px 3px 1px rgba(0, 0, 0, 0.15);\n",
              "      filter: drop-shadow(0px 1px 2px rgba(0, 0, 0, 0.3));\n",
              "      fill: #FFFFFF;\n",
              "    }\n",
              "  </style>\n",
              "\n",
              "      <script>\n",
              "        const buttonEl =\n",
              "          document.querySelector('#df-f9ec8b23-bc82-4c88-8d7b-82f65d84af20 button.colab-df-convert');\n",
              "        buttonEl.style.display =\n",
              "          google.colab.kernel.accessAllowed ? 'block' : 'none';\n",
              "\n",
              "        async function convertToInteractive(key) {\n",
              "          const element = document.querySelector('#df-f9ec8b23-bc82-4c88-8d7b-82f65d84af20');\n",
              "          const dataTable =\n",
              "            await google.colab.kernel.invokeFunction('convertToInteractive',\n",
              "                                                     [key], {});\n",
              "          if (!dataTable) return;\n",
              "\n",
              "          const docLinkHtml = 'Like what you see? Visit the ' +\n",
              "            '<a target=\"_blank\" href=https://colab.research.google.com/notebooks/data_table.ipynb>data table notebook</a>'\n",
              "            + ' to learn more about interactive tables.';\n",
              "          element.innerHTML = '';\n",
              "          dataTable['output_type'] = 'display_data';\n",
              "          await google.colab.output.renderOutput(dataTable, element);\n",
              "          const docLink = document.createElement('div');\n",
              "          docLink.innerHTML = docLinkHtml;\n",
              "          element.appendChild(docLink);\n",
              "        }\n",
              "      </script>\n",
              "    </div>\n",
              "  </div>\n",
              "  "
            ]
          },
          "metadata": {},
          "execution_count": 286
        }
      ]
    },
    {
      "cell_type": "code",
      "source": [
        "# Checking form imbalance\n",
        "Y.value_counts()"
      ],
      "metadata": {
        "colab": {
          "base_uri": "https://localhost:8080/"
        },
        "id": "xOKRS-SOQ9zo",
        "outputId": "8949a30c-b365-4556-9933-323972929ad6"
      },
      "execution_count": null,
      "outputs": [
        {
          "output_type": "execute_result",
          "data": {
            "text/plain": [
              "0    7102\n",
              "1      44\n",
              "Name: favorite, dtype: int64"
            ]
          },
          "metadata": {},
          "execution_count": 287
        }
      ]
    },
    {
      "cell_type": "markdown",
      "source": [
        "Since the number of favorite songs is so small compared to the rest of the non-favorite songs. I made the decision to oversample the favourite class to train a classification model on."
      ],
      "metadata": {
        "id": "5qB15vq01dZB"
      }
    },
    {
      "cell_type": "code",
      "source": [
        "# Train / Split Data\n",
        "oversample = SMOTE()\n",
        "X_train, Y_train = oversample.fit_resample(X, Y)"
      ],
      "metadata": {
        "id": "BUFTrVuURBGZ"
      },
      "execution_count": null,
      "outputs": []
    },
    {
      "cell_type": "code",
      "source": [
        "X_train.head()"
      ],
      "metadata": {
        "colab": {
          "base_uri": "https://localhost:8080/",
          "height": 270
        },
        "id": "5QFTr6emRIJB",
        "outputId": "b90301b4-de68-4ba1-8e83-74a96c63c444"
      },
      "execution_count": null,
      "outputs": [
        {
          "output_type": "execute_result",
          "data": {
            "text/plain": [
              "   length  popularity  danceability  acousticness  energy  instrumentalness  \\\n",
              "0  184306          28         0.646       0.05500   0.914            0.0000   \n",
              "1  205296          66         0.877       0.02880   0.747            0.0000   \n",
              "2  274618           0         0.636       0.00117   0.781            0.0000   \n",
              "3  222960          54         0.647       0.25800   0.465            0.1490   \n",
              "4  179349          50         0.389       0.82600   0.408            0.0986   \n",
              "\n",
              "   liveness  loudness  speechiness    tempo  time_signature  \n",
              "0    0.0985    -4.392       0.0409  152.002               4  \n",
              "1    0.2730    -5.873       0.3650  145.162               4  \n",
              "2    0.0346    -4.681       0.0517   83.002               4  \n",
              "3    0.1110   -10.272       0.0245   94.035               4  \n",
              "4    0.3830   -12.158       0.0538   74.183               4  "
            ],
            "text/html": [
              "\n",
              "  <div id=\"df-04363284-cda1-4a6d-98b7-a40b9b087924\">\n",
              "    <div class=\"colab-df-container\">\n",
              "      <div>\n",
              "<style scoped>\n",
              "    .dataframe tbody tr th:only-of-type {\n",
              "        vertical-align: middle;\n",
              "    }\n",
              "\n",
              "    .dataframe tbody tr th {\n",
              "        vertical-align: top;\n",
              "    }\n",
              "\n",
              "    .dataframe thead th {\n",
              "        text-align: right;\n",
              "    }\n",
              "</style>\n",
              "<table border=\"1\" class=\"dataframe\">\n",
              "  <thead>\n",
              "    <tr style=\"text-align: right;\">\n",
              "      <th></th>\n",
              "      <th>length</th>\n",
              "      <th>popularity</th>\n",
              "      <th>danceability</th>\n",
              "      <th>acousticness</th>\n",
              "      <th>energy</th>\n",
              "      <th>instrumentalness</th>\n",
              "      <th>liveness</th>\n",
              "      <th>loudness</th>\n",
              "      <th>speechiness</th>\n",
              "      <th>tempo</th>\n",
              "      <th>time_signature</th>\n",
              "    </tr>\n",
              "  </thead>\n",
              "  <tbody>\n",
              "    <tr>\n",
              "      <th>0</th>\n",
              "      <td>184306</td>\n",
              "      <td>28</td>\n",
              "      <td>0.646</td>\n",
              "      <td>0.05500</td>\n",
              "      <td>0.914</td>\n",
              "      <td>0.0000</td>\n",
              "      <td>0.0985</td>\n",
              "      <td>-4.392</td>\n",
              "      <td>0.0409</td>\n",
              "      <td>152.002</td>\n",
              "      <td>4</td>\n",
              "    </tr>\n",
              "    <tr>\n",
              "      <th>1</th>\n",
              "      <td>205296</td>\n",
              "      <td>66</td>\n",
              "      <td>0.877</td>\n",
              "      <td>0.02880</td>\n",
              "      <td>0.747</td>\n",
              "      <td>0.0000</td>\n",
              "      <td>0.2730</td>\n",
              "      <td>-5.873</td>\n",
              "      <td>0.3650</td>\n",
              "      <td>145.162</td>\n",
              "      <td>4</td>\n",
              "    </tr>\n",
              "    <tr>\n",
              "      <th>2</th>\n",
              "      <td>274618</td>\n",
              "      <td>0</td>\n",
              "      <td>0.636</td>\n",
              "      <td>0.00117</td>\n",
              "      <td>0.781</td>\n",
              "      <td>0.0000</td>\n",
              "      <td>0.0346</td>\n",
              "      <td>-4.681</td>\n",
              "      <td>0.0517</td>\n",
              "      <td>83.002</td>\n",
              "      <td>4</td>\n",
              "    </tr>\n",
              "    <tr>\n",
              "      <th>3</th>\n",
              "      <td>222960</td>\n",
              "      <td>54</td>\n",
              "      <td>0.647</td>\n",
              "      <td>0.25800</td>\n",
              "      <td>0.465</td>\n",
              "      <td>0.1490</td>\n",
              "      <td>0.1110</td>\n",
              "      <td>-10.272</td>\n",
              "      <td>0.0245</td>\n",
              "      <td>94.035</td>\n",
              "      <td>4</td>\n",
              "    </tr>\n",
              "    <tr>\n",
              "      <th>4</th>\n",
              "      <td>179349</td>\n",
              "      <td>50</td>\n",
              "      <td>0.389</td>\n",
              "      <td>0.82600</td>\n",
              "      <td>0.408</td>\n",
              "      <td>0.0986</td>\n",
              "      <td>0.3830</td>\n",
              "      <td>-12.158</td>\n",
              "      <td>0.0538</td>\n",
              "      <td>74.183</td>\n",
              "      <td>4</td>\n",
              "    </tr>\n",
              "  </tbody>\n",
              "</table>\n",
              "</div>\n",
              "      <button class=\"colab-df-convert\" onclick=\"convertToInteractive('df-04363284-cda1-4a6d-98b7-a40b9b087924')\"\n",
              "              title=\"Convert this dataframe to an interactive table.\"\n",
              "              style=\"display:none;\">\n",
              "        \n",
              "  <svg xmlns=\"http://www.w3.org/2000/svg\" height=\"24px\"viewBox=\"0 0 24 24\"\n",
              "       width=\"24px\">\n",
              "    <path d=\"M0 0h24v24H0V0z\" fill=\"none\"/>\n",
              "    <path d=\"M18.56 5.44l.94 2.06.94-2.06 2.06-.94-2.06-.94-.94-2.06-.94 2.06-2.06.94zm-11 1L8.5 8.5l.94-2.06 2.06-.94-2.06-.94L8.5 2.5l-.94 2.06-2.06.94zm10 10l.94 2.06.94-2.06 2.06-.94-2.06-.94-.94-2.06-.94 2.06-2.06.94z\"/><path d=\"M17.41 7.96l-1.37-1.37c-.4-.4-.92-.59-1.43-.59-.52 0-1.04.2-1.43.59L10.3 9.45l-7.72 7.72c-.78.78-.78 2.05 0 2.83L4 21.41c.39.39.9.59 1.41.59.51 0 1.02-.2 1.41-.59l7.78-7.78 2.81-2.81c.8-.78.8-2.07 0-2.86zM5.41 20L4 18.59l7.72-7.72 1.47 1.35L5.41 20z\"/>\n",
              "  </svg>\n",
              "      </button>\n",
              "      \n",
              "  <style>\n",
              "    .colab-df-container {\n",
              "      display:flex;\n",
              "      flex-wrap:wrap;\n",
              "      gap: 12px;\n",
              "    }\n",
              "\n",
              "    .colab-df-convert {\n",
              "      background-color: #E8F0FE;\n",
              "      border: none;\n",
              "      border-radius: 50%;\n",
              "      cursor: pointer;\n",
              "      display: none;\n",
              "      fill: #1967D2;\n",
              "      height: 32px;\n",
              "      padding: 0 0 0 0;\n",
              "      width: 32px;\n",
              "    }\n",
              "\n",
              "    .colab-df-convert:hover {\n",
              "      background-color: #E2EBFA;\n",
              "      box-shadow: 0px 1px 2px rgba(60, 64, 67, 0.3), 0px 1px 3px 1px rgba(60, 64, 67, 0.15);\n",
              "      fill: #174EA6;\n",
              "    }\n",
              "\n",
              "    [theme=dark] .colab-df-convert {\n",
              "      background-color: #3B4455;\n",
              "      fill: #D2E3FC;\n",
              "    }\n",
              "\n",
              "    [theme=dark] .colab-df-convert:hover {\n",
              "      background-color: #434B5C;\n",
              "      box-shadow: 0px 1px 3px 1px rgba(0, 0, 0, 0.15);\n",
              "      filter: drop-shadow(0px 1px 2px rgba(0, 0, 0, 0.3));\n",
              "      fill: #FFFFFF;\n",
              "    }\n",
              "  </style>\n",
              "\n",
              "      <script>\n",
              "        const buttonEl =\n",
              "          document.querySelector('#df-04363284-cda1-4a6d-98b7-a40b9b087924 button.colab-df-convert');\n",
              "        buttonEl.style.display =\n",
              "          google.colab.kernel.accessAllowed ? 'block' : 'none';\n",
              "\n",
              "        async function convertToInteractive(key) {\n",
              "          const element = document.querySelector('#df-04363284-cda1-4a6d-98b7-a40b9b087924');\n",
              "          const dataTable =\n",
              "            await google.colab.kernel.invokeFunction('convertToInteractive',\n",
              "                                                     [key], {});\n",
              "          if (!dataTable) return;\n",
              "\n",
              "          const docLinkHtml = 'Like what you see? Visit the ' +\n",
              "            '<a target=\"_blank\" href=https://colab.research.google.com/notebooks/data_table.ipynb>data table notebook</a>'\n",
              "            + ' to learn more about interactive tables.';\n",
              "          element.innerHTML = '';\n",
              "          dataTable['output_type'] = 'display_data';\n",
              "          await google.colab.output.renderOutput(dataTable, element);\n",
              "          const docLink = document.createElement('div');\n",
              "          docLink.innerHTML = docLinkHtml;\n",
              "          element.appendChild(docLink);\n",
              "        }\n",
              "      </script>\n",
              "    </div>\n",
              "  </div>\n",
              "  "
            ]
          },
          "metadata": {},
          "execution_count": 289
        }
      ]
    },
    {
      "cell_type": "code",
      "source": [
        "# Checking if imbalance is gone\n",
        "Y_train.value_counts()"
      ],
      "metadata": {
        "colab": {
          "base_uri": "https://localhost:8080/"
        },
        "id": "x62ITEKzRMmY",
        "outputId": "dd138ef8-fb00-4f0f-d713-e3ec1eb0b986"
      },
      "execution_count": null,
      "outputs": [
        {
          "output_type": "execute_result",
          "data": {
            "text/plain": [
              "0    7102\n",
              "1    7102\n",
              "Name: favorite, dtype: int64"
            ]
          },
          "metadata": {},
          "execution_count": 290
        }
      ]
    },
    {
      "cell_type": "markdown",
      "source": [
        "Now that the classses in the train set are balanced, the models should be less biased towards being a non-favorite and be more accurate on the test data and real application."
      ],
      "metadata": {
        "id": "5iDF8U1k12Hj"
      }
    },
    {
      "cell_type": "code",
      "source": [
        "test_set.head()"
      ],
      "metadata": {
        "colab": {
          "base_uri": "https://localhost:8080/",
          "height": 270
        },
        "id": "NX4eWKx6RPIs",
        "outputId": "0037de60-666c-445b-88a3-9114d091e9c4"
      },
      "execution_count": null,
      "outputs": [
        {
          "output_type": "execute_result",
          "data": {
            "text/plain": [
              "                    track_id  length  popularity  danceability  acousticness  \\\n",
              "3721  2t5m1jQhBn9IKziKQwFUc7  184306          28         0.646       0.05500   \n",
              "1355  52ySvuxscDGsXUVsci1Kpa  205296          66         0.877       0.02880   \n",
              "3801  6xwn1ce0YplRNLH2bFaYdg  274618           0         0.636       0.00117   \n",
              "1988  1pwWrPxonLIE12WWu9NzgU  222960          54         0.647       0.25800   \n",
              "4869  1upAhgDBWCV0AvUxgAU6SR  179349          50         0.389       0.82600   \n",
              "\n",
              "      energy  instrumentalness  liveness  loudness  speechiness    tempo  \\\n",
              "3721   0.914            0.0000    0.0985    -4.392       0.0409  152.002   \n",
              "1355   0.747            0.0000    0.2730    -5.873       0.3650  145.162   \n",
              "3801   0.781            0.0000    0.0346    -4.681       0.0517   83.002   \n",
              "1988   0.465            0.1490    0.1110   -10.272       0.0245   94.035   \n",
              "4869   0.408            0.0986    0.3830   -12.158       0.0538   74.183   \n",
              "\n",
              "      time_signature  favorite  \n",
              "3721               4         0  \n",
              "1355               4         0  \n",
              "3801               4         0  \n",
              "1988               4         0  \n",
              "4869               4         0  "
            ],
            "text/html": [
              "\n",
              "  <div id=\"df-09e08c83-4133-496e-8749-fe895dedd531\">\n",
              "    <div class=\"colab-df-container\">\n",
              "      <div>\n",
              "<style scoped>\n",
              "    .dataframe tbody tr th:only-of-type {\n",
              "        vertical-align: middle;\n",
              "    }\n",
              "\n",
              "    .dataframe tbody tr th {\n",
              "        vertical-align: top;\n",
              "    }\n",
              "\n",
              "    .dataframe thead th {\n",
              "        text-align: right;\n",
              "    }\n",
              "</style>\n",
              "<table border=\"1\" class=\"dataframe\">\n",
              "  <thead>\n",
              "    <tr style=\"text-align: right;\">\n",
              "      <th></th>\n",
              "      <th>track_id</th>\n",
              "      <th>length</th>\n",
              "      <th>popularity</th>\n",
              "      <th>danceability</th>\n",
              "      <th>acousticness</th>\n",
              "      <th>energy</th>\n",
              "      <th>instrumentalness</th>\n",
              "      <th>liveness</th>\n",
              "      <th>loudness</th>\n",
              "      <th>speechiness</th>\n",
              "      <th>tempo</th>\n",
              "      <th>time_signature</th>\n",
              "      <th>favorite</th>\n",
              "    </tr>\n",
              "  </thead>\n",
              "  <tbody>\n",
              "    <tr>\n",
              "      <th>3721</th>\n",
              "      <td>2t5m1jQhBn9IKziKQwFUc7</td>\n",
              "      <td>184306</td>\n",
              "      <td>28</td>\n",
              "      <td>0.646</td>\n",
              "      <td>0.05500</td>\n",
              "      <td>0.914</td>\n",
              "      <td>0.0000</td>\n",
              "      <td>0.0985</td>\n",
              "      <td>-4.392</td>\n",
              "      <td>0.0409</td>\n",
              "      <td>152.002</td>\n",
              "      <td>4</td>\n",
              "      <td>0</td>\n",
              "    </tr>\n",
              "    <tr>\n",
              "      <th>1355</th>\n",
              "      <td>52ySvuxscDGsXUVsci1Kpa</td>\n",
              "      <td>205296</td>\n",
              "      <td>66</td>\n",
              "      <td>0.877</td>\n",
              "      <td>0.02880</td>\n",
              "      <td>0.747</td>\n",
              "      <td>0.0000</td>\n",
              "      <td>0.2730</td>\n",
              "      <td>-5.873</td>\n",
              "      <td>0.3650</td>\n",
              "      <td>145.162</td>\n",
              "      <td>4</td>\n",
              "      <td>0</td>\n",
              "    </tr>\n",
              "    <tr>\n",
              "      <th>3801</th>\n",
              "      <td>6xwn1ce0YplRNLH2bFaYdg</td>\n",
              "      <td>274618</td>\n",
              "      <td>0</td>\n",
              "      <td>0.636</td>\n",
              "      <td>0.00117</td>\n",
              "      <td>0.781</td>\n",
              "      <td>0.0000</td>\n",
              "      <td>0.0346</td>\n",
              "      <td>-4.681</td>\n",
              "      <td>0.0517</td>\n",
              "      <td>83.002</td>\n",
              "      <td>4</td>\n",
              "      <td>0</td>\n",
              "    </tr>\n",
              "    <tr>\n",
              "      <th>1988</th>\n",
              "      <td>1pwWrPxonLIE12WWu9NzgU</td>\n",
              "      <td>222960</td>\n",
              "      <td>54</td>\n",
              "      <td>0.647</td>\n",
              "      <td>0.25800</td>\n",
              "      <td>0.465</td>\n",
              "      <td>0.1490</td>\n",
              "      <td>0.1110</td>\n",
              "      <td>-10.272</td>\n",
              "      <td>0.0245</td>\n",
              "      <td>94.035</td>\n",
              "      <td>4</td>\n",
              "      <td>0</td>\n",
              "    </tr>\n",
              "    <tr>\n",
              "      <th>4869</th>\n",
              "      <td>1upAhgDBWCV0AvUxgAU6SR</td>\n",
              "      <td>179349</td>\n",
              "      <td>50</td>\n",
              "      <td>0.389</td>\n",
              "      <td>0.82600</td>\n",
              "      <td>0.408</td>\n",
              "      <td>0.0986</td>\n",
              "      <td>0.3830</td>\n",
              "      <td>-12.158</td>\n",
              "      <td>0.0538</td>\n",
              "      <td>74.183</td>\n",
              "      <td>4</td>\n",
              "      <td>0</td>\n",
              "    </tr>\n",
              "  </tbody>\n",
              "</table>\n",
              "</div>\n",
              "      <button class=\"colab-df-convert\" onclick=\"convertToInteractive('df-09e08c83-4133-496e-8749-fe895dedd531')\"\n",
              "              title=\"Convert this dataframe to an interactive table.\"\n",
              "              style=\"display:none;\">\n",
              "        \n",
              "  <svg xmlns=\"http://www.w3.org/2000/svg\" height=\"24px\"viewBox=\"0 0 24 24\"\n",
              "       width=\"24px\">\n",
              "    <path d=\"M0 0h24v24H0V0z\" fill=\"none\"/>\n",
              "    <path d=\"M18.56 5.44l.94 2.06.94-2.06 2.06-.94-2.06-.94-.94-2.06-.94 2.06-2.06.94zm-11 1L8.5 8.5l.94-2.06 2.06-.94-2.06-.94L8.5 2.5l-.94 2.06-2.06.94zm10 10l.94 2.06.94-2.06 2.06-.94-2.06-.94-.94-2.06-.94 2.06-2.06.94z\"/><path d=\"M17.41 7.96l-1.37-1.37c-.4-.4-.92-.59-1.43-.59-.52 0-1.04.2-1.43.59L10.3 9.45l-7.72 7.72c-.78.78-.78 2.05 0 2.83L4 21.41c.39.39.9.59 1.41.59.51 0 1.02-.2 1.41-.59l7.78-7.78 2.81-2.81c.8-.78.8-2.07 0-2.86zM5.41 20L4 18.59l7.72-7.72 1.47 1.35L5.41 20z\"/>\n",
              "  </svg>\n",
              "      </button>\n",
              "      \n",
              "  <style>\n",
              "    .colab-df-container {\n",
              "      display:flex;\n",
              "      flex-wrap:wrap;\n",
              "      gap: 12px;\n",
              "    }\n",
              "\n",
              "    .colab-df-convert {\n",
              "      background-color: #E8F0FE;\n",
              "      border: none;\n",
              "      border-radius: 50%;\n",
              "      cursor: pointer;\n",
              "      display: none;\n",
              "      fill: #1967D2;\n",
              "      height: 32px;\n",
              "      padding: 0 0 0 0;\n",
              "      width: 32px;\n",
              "    }\n",
              "\n",
              "    .colab-df-convert:hover {\n",
              "      background-color: #E2EBFA;\n",
              "      box-shadow: 0px 1px 2px rgba(60, 64, 67, 0.3), 0px 1px 3px 1px rgba(60, 64, 67, 0.15);\n",
              "      fill: #174EA6;\n",
              "    }\n",
              "\n",
              "    [theme=dark] .colab-df-convert {\n",
              "      background-color: #3B4455;\n",
              "      fill: #D2E3FC;\n",
              "    }\n",
              "\n",
              "    [theme=dark] .colab-df-convert:hover {\n",
              "      background-color: #434B5C;\n",
              "      box-shadow: 0px 1px 3px 1px rgba(0, 0, 0, 0.15);\n",
              "      filter: drop-shadow(0px 1px 2px rgba(0, 0, 0, 0.3));\n",
              "      fill: #FFFFFF;\n",
              "    }\n",
              "  </style>\n",
              "\n",
              "      <script>\n",
              "        const buttonEl =\n",
              "          document.querySelector('#df-09e08c83-4133-496e-8749-fe895dedd531 button.colab-df-convert');\n",
              "        buttonEl.style.display =\n",
              "          google.colab.kernel.accessAllowed ? 'block' : 'none';\n",
              "\n",
              "        async function convertToInteractive(key) {\n",
              "          const element = document.querySelector('#df-09e08c83-4133-496e-8749-fe895dedd531');\n",
              "          const dataTable =\n",
              "            await google.colab.kernel.invokeFunction('convertToInteractive',\n",
              "                                                     [key], {});\n",
              "          if (!dataTable) return;\n",
              "\n",
              "          const docLinkHtml = 'Like what you see? Visit the ' +\n",
              "            '<a target=\"_blank\" href=https://colab.research.google.com/notebooks/data_table.ipynb>data table notebook</a>'\n",
              "            + ' to learn more about interactive tables.';\n",
              "          element.innerHTML = '';\n",
              "          dataTable['output_type'] = 'display_data';\n",
              "          await google.colab.output.renderOutput(dataTable, element);\n",
              "          const docLink = document.createElement('div');\n",
              "          docLink.innerHTML = docLinkHtml;\n",
              "          element.appendChild(docLink);\n",
              "        }\n",
              "      </script>\n",
              "    </div>\n",
              "  </div>\n",
              "  "
            ]
          },
          "metadata": {},
          "execution_count": 291
        }
      ]
    },
    {
      "cell_type": "code",
      "source": [
        "# Setting the test data sets\n",
        "X_test = test_set.drop(columns=['favorite', 'track_id'])\n",
        "Y_test = test_set['favorite']"
      ],
      "metadata": {
        "id": "6pKALEZSRSAf"
      },
      "execution_count": null,
      "outputs": []
    },
    {
      "cell_type": "code",
      "source": [
        "X_test.head()"
      ],
      "metadata": {
        "colab": {
          "base_uri": "https://localhost:8080/",
          "height": 270
        },
        "id": "GA32DdIORVaq",
        "outputId": "20d2fbcd-f444-426a-eab3-8578143e0b3c"
      },
      "execution_count": null,
      "outputs": [
        {
          "output_type": "execute_result",
          "data": {
            "text/plain": [
              "      length  popularity  danceability  acousticness  energy  \\\n",
              "3721  184306          28         0.646       0.05500   0.914   \n",
              "1355  205296          66         0.877       0.02880   0.747   \n",
              "3801  274618           0         0.636       0.00117   0.781   \n",
              "1988  222960          54         0.647       0.25800   0.465   \n",
              "4869  179349          50         0.389       0.82600   0.408   \n",
              "\n",
              "      instrumentalness  liveness  loudness  speechiness    tempo  \\\n",
              "3721            0.0000    0.0985    -4.392       0.0409  152.002   \n",
              "1355            0.0000    0.2730    -5.873       0.3650  145.162   \n",
              "3801            0.0000    0.0346    -4.681       0.0517   83.002   \n",
              "1988            0.1490    0.1110   -10.272       0.0245   94.035   \n",
              "4869            0.0986    0.3830   -12.158       0.0538   74.183   \n",
              "\n",
              "      time_signature  \n",
              "3721               4  \n",
              "1355               4  \n",
              "3801               4  \n",
              "1988               4  \n",
              "4869               4  "
            ],
            "text/html": [
              "\n",
              "  <div id=\"df-f1ccce07-4123-4d4b-a4a6-08dc415a1c98\">\n",
              "    <div class=\"colab-df-container\">\n",
              "      <div>\n",
              "<style scoped>\n",
              "    .dataframe tbody tr th:only-of-type {\n",
              "        vertical-align: middle;\n",
              "    }\n",
              "\n",
              "    .dataframe tbody tr th {\n",
              "        vertical-align: top;\n",
              "    }\n",
              "\n",
              "    .dataframe thead th {\n",
              "        text-align: right;\n",
              "    }\n",
              "</style>\n",
              "<table border=\"1\" class=\"dataframe\">\n",
              "  <thead>\n",
              "    <tr style=\"text-align: right;\">\n",
              "      <th></th>\n",
              "      <th>length</th>\n",
              "      <th>popularity</th>\n",
              "      <th>danceability</th>\n",
              "      <th>acousticness</th>\n",
              "      <th>energy</th>\n",
              "      <th>instrumentalness</th>\n",
              "      <th>liveness</th>\n",
              "      <th>loudness</th>\n",
              "      <th>speechiness</th>\n",
              "      <th>tempo</th>\n",
              "      <th>time_signature</th>\n",
              "    </tr>\n",
              "  </thead>\n",
              "  <tbody>\n",
              "    <tr>\n",
              "      <th>3721</th>\n",
              "      <td>184306</td>\n",
              "      <td>28</td>\n",
              "      <td>0.646</td>\n",
              "      <td>0.05500</td>\n",
              "      <td>0.914</td>\n",
              "      <td>0.0000</td>\n",
              "      <td>0.0985</td>\n",
              "      <td>-4.392</td>\n",
              "      <td>0.0409</td>\n",
              "      <td>152.002</td>\n",
              "      <td>4</td>\n",
              "    </tr>\n",
              "    <tr>\n",
              "      <th>1355</th>\n",
              "      <td>205296</td>\n",
              "      <td>66</td>\n",
              "      <td>0.877</td>\n",
              "      <td>0.02880</td>\n",
              "      <td>0.747</td>\n",
              "      <td>0.0000</td>\n",
              "      <td>0.2730</td>\n",
              "      <td>-5.873</td>\n",
              "      <td>0.3650</td>\n",
              "      <td>145.162</td>\n",
              "      <td>4</td>\n",
              "    </tr>\n",
              "    <tr>\n",
              "      <th>3801</th>\n",
              "      <td>274618</td>\n",
              "      <td>0</td>\n",
              "      <td>0.636</td>\n",
              "      <td>0.00117</td>\n",
              "      <td>0.781</td>\n",
              "      <td>0.0000</td>\n",
              "      <td>0.0346</td>\n",
              "      <td>-4.681</td>\n",
              "      <td>0.0517</td>\n",
              "      <td>83.002</td>\n",
              "      <td>4</td>\n",
              "    </tr>\n",
              "    <tr>\n",
              "      <th>1988</th>\n",
              "      <td>222960</td>\n",
              "      <td>54</td>\n",
              "      <td>0.647</td>\n",
              "      <td>0.25800</td>\n",
              "      <td>0.465</td>\n",
              "      <td>0.1490</td>\n",
              "      <td>0.1110</td>\n",
              "      <td>-10.272</td>\n",
              "      <td>0.0245</td>\n",
              "      <td>94.035</td>\n",
              "      <td>4</td>\n",
              "    </tr>\n",
              "    <tr>\n",
              "      <th>4869</th>\n",
              "      <td>179349</td>\n",
              "      <td>50</td>\n",
              "      <td>0.389</td>\n",
              "      <td>0.82600</td>\n",
              "      <td>0.408</td>\n",
              "      <td>0.0986</td>\n",
              "      <td>0.3830</td>\n",
              "      <td>-12.158</td>\n",
              "      <td>0.0538</td>\n",
              "      <td>74.183</td>\n",
              "      <td>4</td>\n",
              "    </tr>\n",
              "  </tbody>\n",
              "</table>\n",
              "</div>\n",
              "      <button class=\"colab-df-convert\" onclick=\"convertToInteractive('df-f1ccce07-4123-4d4b-a4a6-08dc415a1c98')\"\n",
              "              title=\"Convert this dataframe to an interactive table.\"\n",
              "              style=\"display:none;\">\n",
              "        \n",
              "  <svg xmlns=\"http://www.w3.org/2000/svg\" height=\"24px\"viewBox=\"0 0 24 24\"\n",
              "       width=\"24px\">\n",
              "    <path d=\"M0 0h24v24H0V0z\" fill=\"none\"/>\n",
              "    <path d=\"M18.56 5.44l.94 2.06.94-2.06 2.06-.94-2.06-.94-.94-2.06-.94 2.06-2.06.94zm-11 1L8.5 8.5l.94-2.06 2.06-.94-2.06-.94L8.5 2.5l-.94 2.06-2.06.94zm10 10l.94 2.06.94-2.06 2.06-.94-2.06-.94-.94-2.06-.94 2.06-2.06.94z\"/><path d=\"M17.41 7.96l-1.37-1.37c-.4-.4-.92-.59-1.43-.59-.52 0-1.04.2-1.43.59L10.3 9.45l-7.72 7.72c-.78.78-.78 2.05 0 2.83L4 21.41c.39.39.9.59 1.41.59.51 0 1.02-.2 1.41-.59l7.78-7.78 2.81-2.81c.8-.78.8-2.07 0-2.86zM5.41 20L4 18.59l7.72-7.72 1.47 1.35L5.41 20z\"/>\n",
              "  </svg>\n",
              "      </button>\n",
              "      \n",
              "  <style>\n",
              "    .colab-df-container {\n",
              "      display:flex;\n",
              "      flex-wrap:wrap;\n",
              "      gap: 12px;\n",
              "    }\n",
              "\n",
              "    .colab-df-convert {\n",
              "      background-color: #E8F0FE;\n",
              "      border: none;\n",
              "      border-radius: 50%;\n",
              "      cursor: pointer;\n",
              "      display: none;\n",
              "      fill: #1967D2;\n",
              "      height: 32px;\n",
              "      padding: 0 0 0 0;\n",
              "      width: 32px;\n",
              "    }\n",
              "\n",
              "    .colab-df-convert:hover {\n",
              "      background-color: #E2EBFA;\n",
              "      box-shadow: 0px 1px 2px rgba(60, 64, 67, 0.3), 0px 1px 3px 1px rgba(60, 64, 67, 0.15);\n",
              "      fill: #174EA6;\n",
              "    }\n",
              "\n",
              "    [theme=dark] .colab-df-convert {\n",
              "      background-color: #3B4455;\n",
              "      fill: #D2E3FC;\n",
              "    }\n",
              "\n",
              "    [theme=dark] .colab-df-convert:hover {\n",
              "      background-color: #434B5C;\n",
              "      box-shadow: 0px 1px 3px 1px rgba(0, 0, 0, 0.15);\n",
              "      filter: drop-shadow(0px 1px 2px rgba(0, 0, 0, 0.3));\n",
              "      fill: #FFFFFF;\n",
              "    }\n",
              "  </style>\n",
              "\n",
              "      <script>\n",
              "        const buttonEl =\n",
              "          document.querySelector('#df-f1ccce07-4123-4d4b-a4a6-08dc415a1c98 button.colab-df-convert');\n",
              "        buttonEl.style.display =\n",
              "          google.colab.kernel.accessAllowed ? 'block' : 'none';\n",
              "\n",
              "        async function convertToInteractive(key) {\n",
              "          const element = document.querySelector('#df-f1ccce07-4123-4d4b-a4a6-08dc415a1c98');\n",
              "          const dataTable =\n",
              "            await google.colab.kernel.invokeFunction('convertToInteractive',\n",
              "                                                     [key], {});\n",
              "          if (!dataTable) return;\n",
              "\n",
              "          const docLinkHtml = 'Like what you see? Visit the ' +\n",
              "            '<a target=\"_blank\" href=https://colab.research.google.com/notebooks/data_table.ipynb>data table notebook</a>'\n",
              "            + ' to learn more about interactive tables.';\n",
              "          element.innerHTML = '';\n",
              "          dataTable['output_type'] = 'display_data';\n",
              "          await google.colab.output.renderOutput(dataTable, element);\n",
              "          const docLink = document.createElement('div');\n",
              "          docLink.innerHTML = docLinkHtml;\n",
              "          element.appendChild(docLink);\n",
              "        }\n",
              "      </script>\n",
              "    </div>\n",
              "  </div>\n",
              "  "
            ]
          },
          "metadata": {},
          "execution_count": 293
        }
      ]
    },
    {
      "cell_type": "code",
      "source": [
        "# Checking for imbalance in test set\n",
        "Y_test.value_counts()"
      ],
      "metadata": {
        "colab": {
          "base_uri": "https://localhost:8080/"
        },
        "id": "yrwPrgiuRZ9B",
        "outputId": "88ff6ee7-86d3-46b7-c64e-a1a116555206"
      },
      "execution_count": null,
      "outputs": [
        {
          "output_type": "execute_result",
          "data": {
            "text/plain": [
              "0    7102\n",
              "1      44\n",
              "Name: favorite, dtype: int64"
            ]
          },
          "metadata": {},
          "execution_count": 294
        }
      ]
    },
    {
      "cell_type": "markdown",
      "source": [
        "# Testing models\n",
        "I am using logistic regression as a baseline to compare the other models to. The 2 models in the demostration are **DecsionTreeClassifier** and **RandomForestClassifier**. The expectation is that these models outperform logistic regression due to sequential decision making."
      ],
      "metadata": {
        "id": "U8_ZRujh2TjL"
      }
    },
    {
      "cell_type": "code",
      "source": [
        "#Testing models\n",
        "%time\n",
        "# Logistic Regression\n",
        "lr = LogisticRegression(solver='lbfgs', max_iter=400).fit(X_train, Y_train)\n",
        "lr_scores = cross_val_score(lr, X_train, Y_train, cv=10, scoring=\"f1\")\n",
        "print(np.mean(lr_scores))"
      ],
      "metadata": {
        "colab": {
          "base_uri": "https://localhost:8080/"
        },
        "id": "tR456TtyRdqK",
        "outputId": "89bff3eb-bfb2-4b21-ae69-83fefb6f86cd"
      },
      "execution_count": null,
      "outputs": [
        {
          "output_type": "stream",
          "name": "stdout",
          "text": [
            "CPU times: user 4 µs, sys: 0 ns, total: 4 µs\n",
            "Wall time: 7.87 µs\n",
            "0.7657553097776264\n"
          ]
        }
      ]
    },
    {
      "cell_type": "code",
      "source": [
        "#Logistic Regression confusion matrix\n",
        "lr_pred = lr.predict(X_train)\n",
        "cm = confusion_matrix(Y_train, lr_pred)\n",
        "\n",
        "cm_display = ConfusionMatrixDisplay(cm).plot()"
      ],
      "metadata": {
        "colab": {
          "base_uri": "https://localhost:8080/",
          "height": 449
        },
        "id": "t--yvyN4Riwg",
        "outputId": "6e8d8883-7e7c-4251-e31f-aa206a611f69"
      },
      "execution_count": null,
      "outputs": [
        {
          "output_type": "display_data",
          "data": {
            "text/plain": [
              "<Figure size 640x480 with 2 Axes>"
            ],
            "image/png": "[encoded data removed]"
          },
          "metadata": {}
        }
      ]
    },
    {
      "cell_type": "code",
      "source": [
        "# Hyperparameter optimization for Decision Tree Classifier\n",
        "parameters = {\n",
        "    'max_depth':[3, 4, 5, 6, 10, 15, 20, 30],\n",
        "}\n",
        "dtc = Pipeline([('CV', GridSearchCV(DecisionTreeClassifier(), parameters, cv = 5))])\n",
        "dtc.fit(X_train, Y_train)\n",
        "dtc.named_steps['CV'].best_params_\n"
      ],
      "metadata": {
        "colab": {
          "base_uri": "https://localhost:8080/"
        },
        "id": "C0US2Zxmd6MM",
        "outputId": "1338f82a-3a48-4866-8ffe-db49036f6368"
      },
      "execution_count": null,
      "outputs": [
        {
          "output_type": "execute_result",
          "data": {
            "text/plain": [
              "{'max_depth': 20}"
            ]
          },
          "metadata": {},
          "execution_count": 297
        }
      ]
    },
    {
      "cell_type": "code",
      "source": [
        "%time\n",
        "# Decision Tree Classifier\n",
        "dt = DecisionTreeClassifier(max_depth=30).fit(X_train, Y_train)\n",
        "dt_scores = cross_val_score(dt, X_train, Y_train, cv=10, scoring=\"f1\")\n",
        "np.mean(dt_scores)"
      ],
      "metadata": {
        "colab": {
          "base_uri": "https://localhost:8080/"
        },
        "id": "Y8AsA-KFd9xj",
        "outputId": "c3e00333-50f4-481e-abe4-ae3fed620744"
      },
      "execution_count": null,
      "outputs": [
        {
          "output_type": "stream",
          "name": "stdout",
          "text": [
            "CPU times: user 4 µs, sys: 0 ns, total: 4 µs\n",
            "Wall time: 7.15 µs\n"
          ]
        },
        {
          "output_type": "execute_result",
          "data": {
            "text/plain": [
              "0.9935400878464516"
            ]
          },
          "metadata": {},
          "execution_count": 298
        }
      ]
    },
    {
      "cell_type": "code",
      "source": [
        "X_train_pred = dt.predict(X_train)\n",
        "dtm = confusion_matrix(Y_train, X_train_pred)\n",
        "\n",
        "dtm_display = ConfusionMatrixDisplay(dtm).plot()"
      ],
      "metadata": {
        "colab": {
          "base_uri": "https://localhost:8080/",
          "height": 450
        },
        "id": "TsT6hTl6eSit",
        "outputId": "183c64d0-fe31-4a79-846d-96a0c69991e0"
      },
      "execution_count": null,
      "outputs": [
        {
          "output_type": "display_data",
          "data": {
            "text/plain": [
              "<Figure size 640x480 with 2 Axes>"
            ],
            "image/png": "[encoded data removed]"
          },
          "metadata": {}
        }
      ]
    },
    {
      "cell_type": "code",
      "source": [
        "%time\n",
        "#Hyperparameter optimization of RandomForestClassifier\n",
        "parameters = {\n",
        "    'max_depth':[3,6,12,15,20],\n",
        "    'n_estimators':[10, 20, 30]\n",
        "}\n",
        "clf = Pipeline([('CV', GridSearchCV(RandomForestClassifier(), parameters, cv = 5))])\n",
        "clf.fit(X_train, Y_train)\n",
        "clf.named_steps['CV'].best_params_"
      ],
      "metadata": {
        "colab": {
          "base_uri": "https://localhost:8080/"
        },
        "id": "TEfku0Z3Ah_s",
        "outputId": "00faa0d4-0d7e-4afe-99e6-21a4565d0fb6"
      },
      "execution_count": null,
      "outputs": [
        {
          "output_type": "stream",
          "name": "stdout",
          "text": [
            "CPU times: user 4 µs, sys: 0 ns, total: 4 µs\n",
            "Wall time: 7.63 µs\n"
          ]
        },
        {
          "output_type": "execute_result",
          "data": {
            "text/plain": [
              "{'max_depth': 20, 'n_estimators': 10}"
            ]
          },
          "metadata": {},
          "execution_count": 300
        }
      ]
    },
    {
      "cell_type": "code",
      "source": [
        "%time\n",
        "# Random Forest Classifier\n",
        "rf = Pipeline([('rf', RandomForestClassifier(n_estimators = 10, max_depth = 20).fit(X_train, Y_train))])\n",
        "rf_scores = cross_val_score(rf, X_train, Y_train, cv = 10, scoring=\"f1\")\n",
        "np.mean(rf_scores)"
      ],
      "metadata": {
        "colab": {
          "base_uri": "https://localhost:8080/"
        },
        "id": "8ngRY8ItBACV",
        "outputId": "a40ce076-c02c-4898-f4e2-9efc8b09d0bf"
      },
      "execution_count": null,
      "outputs": [
        {
          "output_type": "stream",
          "name": "stdout",
          "text": [
            "CPU times: user 4 µs, sys: 0 ns, total: 4 µs\n",
            "Wall time: 8.34 µs\n"
          ]
        },
        {
          "output_type": "execute_result",
          "data": {
            "text/plain": [
              "0.9967707355289864"
            ]
          },
          "metadata": {},
          "execution_count": 301
        }
      ]
    },
    {
      "cell_type": "code",
      "source": [
        "X_train_rf = rf.predict(X_train)\n",
        "\n",
        "rfm = confusion_matrix(Y_train, X_train_rf)\n",
        "rfm_display = ConfusionMatrixDisplay(rfm).plot()"
      ],
      "metadata": {
        "colab": {
          "base_uri": "https://localhost:8080/",
          "height": 450
        },
        "id": "5pAUCG10BLV8",
        "outputId": "50aeee28-8c53-4970-fe71-0b76d6ac3075"
      },
      "execution_count": null,
      "outputs": [
        {
          "output_type": "display_data",
          "data": {
            "text/plain": [
              "<Figure size 640x480 with 2 Axes>"
            ],
            "image/png": "[encoded data removed]"
          },
          "metadata": {}
        }
      ]
    },
    {
      "cell_type": "markdown",
      "source": [
        "Although the RandomForestClassifier had the highest accuracy, the confusion matrix showed the DecisionTreeClassifier truly had the higher accuracy because it has less false positives and negatives.\n",
        "\n",
        "Therefore, I will be using the DecisionTreeClassifier as my recommendation algorithm."
      ],
      "metadata": {
        "id": "XnLLtycC3QK9"
      }
    },
    {
      "cell_type": "code",
      "source": [
        "Y_test.value_counts()\n"
      ],
      "metadata": {
        "colab": {
          "base_uri": "https://localhost:8080/"
        },
        "id": "mV_87OPVDJUg",
        "outputId": "e5c1d2be-aabd-4338-ce2b-ffbe3334159d"
      },
      "execution_count": null,
      "outputs": [
        {
          "output_type": "execute_result",
          "data": {
            "text/plain": [
              "0    7102\n",
              "1      44\n",
              "Name: favorite, dtype: int64"
            ]
          },
          "metadata": {},
          "execution_count": 303
        }
      ]
    },
    {
      "cell_type": "code",
      "source": [
        "#Building a pipeline to use on regular data\n",
        "from sklearn.pipeline import make_pipeline\n",
        "from sklearn.preprocessing import StandardScaler\n",
        "\n",
        "pipe = make_pipeline(StandardScaler(), DecisionTreeClassifier(max_depth = 30))\n",
        "pipe.fit(X_train, Y_train) #apply scaling on the training data\n",
        "Pipeline(steps=[('standardscaler', StandardScaler()),\n",
        "                ('dt', DecisionTreeClassifier(max_depth=30))])\n",
        "pipe.score(X_test, Y_test)"
      ],
      "metadata": {
        "colab": {
          "base_uri": "https://localhost:8080/"
        },
        "id": "BjvfXlEVDU8R",
        "outputId": "51ead2f4-eb7a-42cd-c112-45d7a077a66e"
      },
      "execution_count": null,
      "outputs": [
        {
          "output_type": "execute_result",
          "data": {
            "text/plain": [
              "1.0"
            ]
          },
          "metadata": {},
          "execution_count": 304
        }
      ]
    },
    {
      "cell_type": "code",
      "source": [
        "X_train_dt = pipe.predict(X_train)\n",
        "\n",
        "dtm = confusion_matrix(X_train_dt, Y_train)\n",
        "dtm_display = ConfusionMatrixDisplay(dtm).plot()"
      ],
      "metadata": {
        "colab": {
          "base_uri": "https://localhost:8080/",
          "height": 450
        },
        "id": "Jn4OMLYsDkYb",
        "outputId": "d30e59b4-4453-4b59-8833-34f2d66a6427"
      },
      "execution_count": null,
      "outputs": [
        {
          "output_type": "display_data",
          "data": {
            "text/plain": [
              "<Figure size 640x480 with 2 Axes>"
            ],
            "image/png": "[encoded data removed]"
          },
          "metadata": {}
        }
      ]
    },
    {
      "cell_type": "markdown",
      "source": [
        "After running the algorithm, you'll notice that there no false positives however. I could not recommend a single song. However, it seems to think I might like 7102 songs in the future which is a win? Since it recommended 0 songs there shouldn't be a playlist right?\n",
        "Since, 7102 future songs I might the algorithm should at least get at 10+ songs on a playlist."
      ],
      "metadata": {
        "id": "0bKiE0Hv6Zi2"
      }
    },
    {
      "cell_type": "markdown",
      "source": [
        "# Predicting songs and saving to dataset"
      ],
      "metadata": {
        "id": "7CyhfVF597C1"
      }
    },
    {
      "cell_type": "code",
      "source": [
        "# Predicting songs and saving to dataset\n",
        "# Reloading the original dataframe to test model on\n",
        "df = pd.read_csv('encoded_playlist_songs.csv')"
      ],
      "metadata": {
        "id": "ivQDKLDGEQrr"
      },
      "execution_count": null,
      "outputs": []
    },
    {
      "cell_type": "code",
      "source": [
        "df.head()"
      ],
      "metadata": {
        "colab": {
          "base_uri": "https://localhost:8080/",
          "height": 270
        },
        "id": "TVdO_MlOFPE0",
        "outputId": "c96bbb6f-829d-4bcf-e635-58d7b705e3f2"
      },
      "execution_count": null,
      "outputs": [
        {
          "output_type": "execute_result",
          "data": {
            "text/plain": [
              "                 track_id  length  popularity  danceability  acousticness  \\\n",
              "0  7MAibcTli4IisCtbHKrGMh  242096          90         0.586        0.1820   \n",
              "1  5QO79kh1waicV47BqGRL3g  215626          97         0.680        0.0212   \n",
              "2  1diS6nkxMQc3wwC4G1j0bh  165506          88         0.722        0.0319   \n",
              "3  4u4NyuceXP7Uzh7XFJKCr1  170813          89         0.658        0.0106   \n",
              "4  3Ofmpyhv5UAQ70mENzB277  132780          94         0.778        0.1750   \n",
              "\n",
              "   energy  instrumentalness  liveness  loudness  speechiness    tempo  \\\n",
              "0   0.616          0.000000    0.0927    -7.964       0.0324  148.088   \n",
              "1   0.826          0.000012    0.5430    -5.487       0.0309  118.051   \n",
              "2   0.588          0.000000    0.1830    -5.932       0.0544  134.010   \n",
              "3   0.634          0.000000    0.1320    -5.797       0.0413  139.980   \n",
              "4   0.695          0.000000    0.1500    -6.865       0.0913  149.996   \n",
              "\n",
              "   time_signature  favorite  \n",
              "0               4         0  \n",
              "1               4         0  \n",
              "2               4         0  \n",
              "3               4         0  \n",
              "4               4         0  "
            ],
            "text/html": [
              "\n",
              "  <div id=\"df-3faa0410-1b7f-4978-adff-5076dd8eb367\">\n",
              "    <div class=\"colab-df-container\">\n",
              "      <div>\n",
              "<style scoped>\n",
              "    .dataframe tbody tr th:only-of-type {\n",
              "        vertical-align: middle;\n",
              "    }\n",
              "\n",
              "    .dataframe tbody tr th {\n",
              "        vertical-align: top;\n",
              "    }\n",
              "\n",
              "    .dataframe thead th {\n",
              "        text-align: right;\n",
              "    }\n",
              "</style>\n",
              "<table border=\"1\" class=\"dataframe\">\n",
              "  <thead>\n",
              "    <tr style=\"text-align: right;\">\n",
              "      <th></th>\n",
              "      <th>track_id</th>\n",
              "      <th>length</th>\n",
              "      <th>popularity</th>\n",
              "      <th>danceability</th>\n",
              "      <th>acousticness</th>\n",
              "      <th>energy</th>\n",
              "      <th>instrumentalness</th>\n",
              "      <th>liveness</th>\n",
              "      <th>loudness</th>\n",
              "      <th>speechiness</th>\n",
              "      <th>tempo</th>\n",
              "      <th>time_signature</th>\n",
              "      <th>favorite</th>\n",
              "    </tr>\n",
              "  </thead>\n",
              "  <tbody>\n",
              "    <tr>\n",
              "      <th>0</th>\n",
              "      <td>7MAibcTli4IisCtbHKrGMh</td>\n",
              "      <td>242096</td>\n",
              "      <td>90</td>\n",
              "      <td>0.586</td>\n",
              "      <td>0.1820</td>\n",
              "      <td>0.616</td>\n",
              "      <td>0.000000</td>\n",
              "      <td>0.0927</td>\n",
              "      <td>-7.964</td>\n",
              "      <td>0.0324</td>\n",
              "      <td>148.088</td>\n",
              "      <td>4</td>\n",
              "      <td>0</td>\n",
              "    </tr>\n",
              "    <tr>\n",
              "      <th>1</th>\n",
              "      <td>5QO79kh1waicV47BqGRL3g</td>\n",
              "      <td>215626</td>\n",
              "      <td>97</td>\n",
              "      <td>0.680</td>\n",
              "      <td>0.0212</td>\n",
              "      <td>0.826</td>\n",
              "      <td>0.000012</td>\n",
              "      <td>0.5430</td>\n",
              "      <td>-5.487</td>\n",
              "      <td>0.0309</td>\n",
              "      <td>118.051</td>\n",
              "      <td>4</td>\n",
              "      <td>0</td>\n",
              "    </tr>\n",
              "    <tr>\n",
              "      <th>2</th>\n",
              "      <td>1diS6nkxMQc3wwC4G1j0bh</td>\n",
              "      <td>165506</td>\n",
              "      <td>88</td>\n",
              "      <td>0.722</td>\n",
              "      <td>0.0319</td>\n",
              "      <td>0.588</td>\n",
              "      <td>0.000000</td>\n",
              "      <td>0.1830</td>\n",
              "      <td>-5.932</td>\n",
              "      <td>0.0544</td>\n",
              "      <td>134.010</td>\n",
              "      <td>4</td>\n",
              "      <td>0</td>\n",
              "    </tr>\n",
              "    <tr>\n",
              "      <th>3</th>\n",
              "      <td>4u4NyuceXP7Uzh7XFJKCr1</td>\n",
              "      <td>170813</td>\n",
              "      <td>89</td>\n",
              "      <td>0.658</td>\n",
              "      <td>0.0106</td>\n",
              "      <td>0.634</td>\n",
              "      <td>0.000000</td>\n",
              "      <td>0.1320</td>\n",
              "      <td>-5.797</td>\n",
              "      <td>0.0413</td>\n",
              "      <td>139.980</td>\n",
              "      <td>4</td>\n",
              "      <td>0</td>\n",
              "    </tr>\n",
              "    <tr>\n",
              "      <th>4</th>\n",
              "      <td>3Ofmpyhv5UAQ70mENzB277</td>\n",
              "      <td>132780</td>\n",
              "      <td>94</td>\n",
              "      <td>0.778</td>\n",
              "      <td>0.1750</td>\n",
              "      <td>0.695</td>\n",
              "      <td>0.000000</td>\n",
              "      <td>0.1500</td>\n",
              "      <td>-6.865</td>\n",
              "      <td>0.0913</td>\n",
              "      <td>149.996</td>\n",
              "      <td>4</td>\n",
              "      <td>0</td>\n",
              "    </tr>\n",
              "  </tbody>\n",
              "</table>\n",
              "</div>\n",
              "      <button class=\"colab-df-convert\" onclick=\"convertToInteractive('df-3faa0410-1b7f-4978-adff-5076dd8eb367')\"\n",
              "              title=\"Convert this dataframe to an interactive table.\"\n",
              "              style=\"display:none;\">\n",
              "        \n",
              "  <svg xmlns=\"http://www.w3.org/2000/svg\" height=\"24px\"viewBox=\"0 0 24 24\"\n",
              "       width=\"24px\">\n",
              "    <path d=\"M0 0h24v24H0V0z\" fill=\"none\"/>\n",
              "    <path d=\"M18.56 5.44l.94 2.06.94-2.06 2.06-.94-2.06-.94-.94-2.06-.94 2.06-2.06.94zm-11 1L8.5 8.5l.94-2.06 2.06-.94-2.06-.94L8.5 2.5l-.94 2.06-2.06.94zm10 10l.94 2.06.94-2.06 2.06-.94-2.06-.94-.94-2.06-.94 2.06-2.06.94z\"/><path d=\"M17.41 7.96l-1.37-1.37c-.4-.4-.92-.59-1.43-.59-.52 0-1.04.2-1.43.59L10.3 9.45l-7.72 7.72c-.78.78-.78 2.05 0 2.83L4 21.41c.39.39.9.59 1.41.59.51 0 1.02-.2 1.41-.59l7.78-7.78 2.81-2.81c.8-.78.8-2.07 0-2.86zM5.41 20L4 18.59l7.72-7.72 1.47 1.35L5.41 20z\"/>\n",
              "  </svg>\n",
              "      </button>\n",
              "      \n",
              "  <style>\n",
              "    .colab-df-container {\n",
              "      display:flex;\n",
              "      flex-wrap:wrap;\n",
              "      gap: 12px;\n",
              "    }\n",
              "\n",
              "    .colab-df-convert {\n",
              "      background-color: #E8F0FE;\n",
              "      border: none;\n",
              "      border-radius: 50%;\n",
              "      cursor: pointer;\n",
              "      display: none;\n",
              "      fill: #1967D2;\n",
              "      height: 32px;\n",
              "      padding: 0 0 0 0;\n",
              "      width: 32px;\n",
              "    }\n",
              "\n",
              "    .colab-df-convert:hover {\n",
              "      background-color: #E2EBFA;\n",
              "      box-shadow: 0px 1px 2px rgba(60, 64, 67, 0.3), 0px 1px 3px 1px rgba(60, 64, 67, 0.15);\n",
              "      fill: #174EA6;\n",
              "    }\n",
              "\n",
              "    [theme=dark] .colab-df-convert {\n",
              "      background-color: #3B4455;\n",
              "      fill: #D2E3FC;\n",
              "    }\n",
              "\n",
              "    [theme=dark] .colab-df-convert:hover {\n",
              "      background-color: #434B5C;\n",
              "      box-shadow: 0px 1px 3px 1px rgba(0, 0, 0, 0.15);\n",
              "      filter: drop-shadow(0px 1px 2px rgba(0, 0, 0, 0.3));\n",
              "      fill: #FFFFFF;\n",
              "    }\n",
              "  </style>\n",
              "\n",
              "      <script>\n",
              "        const buttonEl =\n",
              "          document.querySelector('#df-3faa0410-1b7f-4978-adff-5076dd8eb367 button.colab-df-convert');\n",
              "        buttonEl.style.display =\n",
              "          google.colab.kernel.accessAllowed ? 'block' : 'none';\n",
              "\n",
              "        async function convertToInteractive(key) {\n",
              "          const element = document.querySelector('#df-3faa0410-1b7f-4978-adff-5076dd8eb367');\n",
              "          const dataTable =\n",
              "            await google.colab.kernel.invokeFunction('convertToInteractive',\n",
              "                                                     [key], {});\n",
              "          if (!dataTable) return;\n",
              "\n",
              "          const docLinkHtml = 'Like what you see? Visit the ' +\n",
              "            '<a target=\"_blank\" href=https://colab.research.google.com/notebooks/data_table.ipynb>data table notebook</a>'\n",
              "            + ' to learn more about interactive tables.';\n",
              "          element.innerHTML = '';\n",
              "          dataTable['output_type'] = 'display_data';\n",
              "          await google.colab.output.renderOutput(dataTable, element);\n",
              "          const docLink = document.createElement('div');\n",
              "          docLink.innerHTML = docLinkHtml;\n",
              "          element.appendChild(docLink);\n",
              "        }\n",
              "      </script>\n",
              "    </div>\n",
              "  </div>\n",
              "  "
            ]
          },
          "metadata": {},
          "execution_count": 307
        }
      ]
    },
    {
      "cell_type": "markdown",
      "source": [
        "Since the model has a niche idea of what a favorite song is, based on the favorites dataset, it is necessary to accept songs that might not be absolute favorites. This is done by using a threshold and sklearn's proba function.\n",
        "\n",
        "I picked 0.3 to get around 10+ song recommendations from a dataset of 10,000 songs to choose from. You can play with value if based on the number songs you want to be recommended.\n",
        "\n",
        "Note: With smaller datasets the results may vary widely. For example, from a dataset 750 songs I got a playlist of 3 songs, 1 or even sometimes none when testing."
      ],
      "metadata": {
        "id": "HZzOJmtB-F0K"
      }
    },
    {
      "cell_type": "code",
      "source": [
        "# predicting if a song is a favorite\n",
        "prob_pred = pipe.predict_proba(df.drop(['favorite','track_id'], axis=1))\n",
        "threshold = 0.30 #might get 4 songs or less\n",
        "preds = [1 if prob_pred[i][1]> threshold else 0 for i in range(len(prob_pred))]\n",
        "df['predicition'] = preds\n"
      ],
      "metadata": {
        "id": "B44N5CM1FUeq"
      },
      "execution_count": null,
      "outputs": []
    },
    {
      "cell_type": "code",
      "source": [
        "df['predicition'].value_counts()"
      ],
      "metadata": {
        "colab": {
          "base_uri": "https://localhost:8080/"
        },
        "id": "S_u_eeJ-FdcG",
        "outputId": "ca6c3527-97dc-4a23-cd44-9a66446bff21"
      },
      "execution_count": null,
      "outputs": [
        {
          "output_type": "execute_result",
          "data": {
            "text/plain": [
              "0    8868\n",
              "1      15\n",
              "Name: predicition, dtype: int64"
            ]
          },
          "metadata": {},
          "execution_count": 309
        }
      ]
    },
    {
      "cell_type": "markdown",
      "source": [
        "# Building the playlist from recommended songs"
      ],
      "metadata": {
        "id": "0KZKSy1P_Pje"
      }
    },
    {
      "cell_type": "code",
      "source": [
        "!pip install spotipy --upgrade\n",
        "import spotipy\n",
        "import spotipy.util as util\n",
        "from spotipy.oauth2 import SpotifyClientCredentials\n",
        "from spotipy import oauth2"
      ],
      "metadata": {
        "colab": {
          "base_uri": "https://localhost:8080/"
        },
        "id": "OqrdJOYlF4jR",
        "outputId": "e81f6139-778a-4f28-8c1a-1d5f84e3cdf1"
      },
      "execution_count": null,
      "outputs": [
        {
          "output_type": "stream",
          "name": "stdout",
          "text": [
            "Looking in indexes: https://pypi.org/simple, https://us-python.pkg.dev/colab-wheels/public/simple/\n",
            "Requirement already satisfied: spotipy in /usr/local/lib/python3.10/dist-packages (2.23.0)\n",
            "Requirement already satisfied: redis>=3.5.3 in /usr/local/lib/python3.10/dist-packages (from spotipy) (4.5.5)\n",
            "Requirement already satisfied: requests>=2.25.0 in /usr/local/lib/python3.10/dist-packages (from spotipy) (2.27.1)\n",
            "Requirement already satisfied: six>=1.15.0 in /usr/local/lib/python3.10/dist-packages (from spotipy) (1.16.0)\n",
            "Requirement already satisfied: urllib3>=1.26.0 in /usr/local/lib/python3.10/dist-packages (from spotipy) (1.26.15)\n",
            "Requirement already satisfied: async-timeout>=4.0.2 in /usr/local/lib/python3.10/dist-packages (from redis>=3.5.3->spotipy) (4.0.2)\n",
            "Requirement already satisfied: certifi>=2017.4.17 in /usr/local/lib/python3.10/dist-packages (from requests>=2.25.0->spotipy) (2022.12.7)\n",
            "Requirement already satisfied: charset-normalizer~=2.0.0 in /usr/local/lib/python3.10/dist-packages (from requests>=2.25.0->spotipy) (2.0.12)\n",
            "Requirement already satisfied: idna<4,>=2.5 in /usr/local/lib/python3.10/dist-packages (from requests>=2.25.0->spotipy) (3.4)\n"
          ]
        }
      ]
    },
    {
      "cell_type": "code",
      "source": [
        "# Insert your spotify username and the credentials from Spotify developer\n",
        "cid = '****************************'\n",
        "secret = '****************************'\n",
        "redirect_uri='https://colab.research.google.com/drive/1042ZhLS-LTYdU9YJDv6qm_RYzsWW0CUt/callback'\n",
        "username = '*************************'"
      ],
      "metadata": {
        "id": "NAMt_Dz9GGTm"
      },
      "execution_count": null,
      "outputs": []
    },
    {
      "cell_type": "code",
      "source": [
        "# Once the Authorisation is complete, we just need to `sp` to call the APIs\n",
        "scope = 'user-top-read playlist-modify-private playlist-modify-public'\n",
        "sp = spotipy.Spotify(auth_manager=spotipy.SpotifyOAuth(\n",
        "          client_id=cid,\n",
        "          client_secret= secret,\n",
        "          redirect_uri= redirect_uri,\n",
        "          scope=scope, open_browser=False))\n",
        "print(sp.current_user())\n",
        "print(\"\\n\")\n",
        "print(sp)"
      ],
      "metadata": {
        "colab": {
          "base_uri": "https://localhost:8080/"
        },
        "id": "nm6iL4FzGPLZ",
        "outputId": "e25104b6-298f-42bc-fd17-7baeca471fd7"
      },
      "execution_count": null,
      "outputs": [
        {
          "output_type": "stream",
          "name": "stdout",
          "text": [
            "{'display_name': 'Avom', 'external_urls': {'spotify': 'https://open.spotify.com/user/zmefuc6bodbfwnqvcjqxr4fua'}, 'followers': {'href': None, 'total': 0}, 'href': 'https://api.spotify.com/v1/users/zmefuc6bodbfwnqvcjqxr4fua', 'id': 'zmefuc6bodbfwnqvcjqxr4fua', 'images': [{'height': None, 'url': 'https://i.scdn.co/image/ab6775700000ee85d1691b8c30220805033db23b', 'width': None}], 'type': 'user', 'uri': 'spotify:user:zmefuc6bodbfwnqvcjqxr4fua'}\n",
            "\n",
            "\n",
            "<spotipy.client.Spotify object at 0x7f781c2f5c00>\n"
          ]
        }
      ]
    },
    {
      "cell_type": "code",
      "source": [
        "# Creating a function that builds a playlist in the user's spotify account\n",
        "def create_playlist(sp, username, playlist_name, playlist_description):\n",
        "    playlists = sp.user_playlist_create(username, playlist_name, description = playlist_description)"
      ],
      "metadata": {
        "id": "7Xc8xOzFGhu9"
      },
      "execution_count": null,
      "outputs": []
    },
    {
      "cell_type": "code",
      "source": [
        "create_playlist(sp, username, 'Your New Jams', 'This playlist was created using python!')"
      ],
      "metadata": {
        "id": "tb4C1hAbHOSc"
      },
      "execution_count": null,
      "outputs": []
    },
    {
      "cell_type": "code",
      "source": [
        "# Function to check if the playlist was created successfully\n",
        "def fetch_playlists(sp, username):\n",
        "    \"\"\"\n",
        "    Returns the user's playlists.\n",
        "    \"\"\"\n",
        "\n",
        "    id = []\n",
        "    name = []\n",
        "    num_tracks = []\n",
        "\n",
        "    # Make the API request\n",
        "    playlists = sp.user_playlists(username)\n",
        "    for playlist in playlists['items']:\n",
        "        id.append(playlist['id'])\n",
        "        name.append(playlist['name'])\n",
        "        num_tracks.append(playlist['tracks']['total'])\n",
        "\n",
        "    # Create the final df\n",
        "    df_playlists = pd.DataFrame({\"id\":id, \"name\": name, \"#tracks\": num_tracks})\n",
        "    return df_playlists"
      ],
      "metadata": {
        "id": "-ZXKZsaYHWuu"
      },
      "execution_count": null,
      "outputs": []
    },
    {
      "cell_type": "code",
      "source": [
        "fetch_playlists(sp,username).head()"
      ],
      "metadata": {
        "colab": {
          "base_uri": "https://localhost:8080/",
          "height": 206
        },
        "id": "i1uv2rv3Haob",
        "outputId": "cf3b5305-4a33-4ee1-8040-6bb16ade1104"
      },
      "execution_count": null,
      "outputs": [
        {
          "output_type": "execute_result",
          "data": {
            "text/plain": [
              "                       id           name  #tracks\n",
              "0  136psNDfPp0FLt8Vi6tC8H  Your New Jams        0\n",
              "1  0J80bghWQtVswpnRWnJAem  Your New Jams       15\n",
              "2  3qJeepqaLuCqZrqXBTmBBs  Your New Jams        6\n",
              "3  3cpm63ERNW5ny8SacpB76v  Your New Jams        3\n",
              "4  7KRh4PbNlf0q7Lc8ENijZb  Your New Jams        0"
            ],
            "text/html": [
              "\n",
              "  <div id=\"df-dc576367-3025-4052-8cbb-7699b24c5268\">\n",
              "    <div class=\"colab-df-container\">\n",
              "      <div>\n",
              "<style scoped>\n",
              "    .dataframe tbody tr th:only-of-type {\n",
              "        vertical-align: middle;\n",
              "    }\n",
              "\n",
              "    .dataframe tbody tr th {\n",
              "        vertical-align: top;\n",
              "    }\n",
              "\n",
              "    .dataframe thead th {\n",
              "        text-align: right;\n",
              "    }\n",
              "</style>\n",
              "<table border=\"1\" class=\"dataframe\">\n",
              "  <thead>\n",
              "    <tr style=\"text-align: right;\">\n",
              "      <th></th>\n",
              "      <th>id</th>\n",
              "      <th>name</th>\n",
              "      <th>#tracks</th>\n",
              "    </tr>\n",
              "  </thead>\n",
              "  <tbody>\n",
              "    <tr>\n",
              "      <th>0</th>\n",
              "      <td>136psNDfPp0FLt8Vi6tC8H</td>\n",
              "      <td>Your New Jams</td>\n",
              "      <td>0</td>\n",
              "    </tr>\n",
              "    <tr>\n",
              "      <th>1</th>\n",
              "      <td>0J80bghWQtVswpnRWnJAem</td>\n",
              "      <td>Your New Jams</td>\n",
              "      <td>15</td>\n",
              "    </tr>\n",
              "    <tr>\n",
              "      <th>2</th>\n",
              "      <td>3qJeepqaLuCqZrqXBTmBBs</td>\n",
              "      <td>Your New Jams</td>\n",
              "      <td>6</td>\n",
              "    </tr>\n",
              "    <tr>\n",
              "      <th>3</th>\n",
              "      <td>3cpm63ERNW5ny8SacpB76v</td>\n",
              "      <td>Your New Jams</td>\n",
              "      <td>3</td>\n",
              "    </tr>\n",
              "    <tr>\n",
              "      <th>4</th>\n",
              "      <td>7KRh4PbNlf0q7Lc8ENijZb</td>\n",
              "      <td>Your New Jams</td>\n",
              "      <td>0</td>\n",
              "    </tr>\n",
              "  </tbody>\n",
              "</table>\n",
              "</div>\n",
              "      <button class=\"colab-df-convert\" onclick=\"convertToInteractive('df-dc576367-3025-4052-8cbb-7699b24c5268')\"\n",
              "              title=\"Convert this dataframe to an interactive table.\"\n",
              "              style=\"display:none;\">\n",
              "        \n",
              "  <svg xmlns=\"http://www.w3.org/2000/svg\" height=\"24px\"viewBox=\"0 0 24 24\"\n",
              "       width=\"24px\">\n",
              "    <path d=\"M0 0h24v24H0V0z\" fill=\"none\"/>\n",
              "    <path d=\"M18.56 5.44l.94 2.06.94-2.06 2.06-.94-2.06-.94-.94-2.06-.94 2.06-2.06.94zm-11 1L8.5 8.5l.94-2.06 2.06-.94-2.06-.94L8.5 2.5l-.94 2.06-2.06.94zm10 10l.94 2.06.94-2.06 2.06-.94-2.06-.94-.94-2.06-.94 2.06-2.06.94z\"/><path d=\"M17.41 7.96l-1.37-1.37c-.4-.4-.92-.59-1.43-.59-.52 0-1.04.2-1.43.59L10.3 9.45l-7.72 7.72c-.78.78-.78 2.05 0 2.83L4 21.41c.39.39.9.59 1.41.59.51 0 1.02-.2 1.41-.59l7.78-7.78 2.81-2.81c.8-.78.8-2.07 0-2.86zM5.41 20L4 18.59l7.72-7.72 1.47 1.35L5.41 20z\"/>\n",
              "  </svg>\n",
              "      </button>\n",
              "      \n",
              "  <style>\n",
              "    .colab-df-container {\n",
              "      display:flex;\n",
              "      flex-wrap:wrap;\n",
              "      gap: 12px;\n",
              "    }\n",
              "\n",
              "    .colab-df-convert {\n",
              "      background-color: #E8F0FE;\n",
              "      border: none;\n",
              "      border-radius: 50%;\n",
              "      cursor: pointer;\n",
              "      display: none;\n",
              "      fill: #1967D2;\n",
              "      height: 32px;\n",
              "      padding: 0 0 0 0;\n",
              "      width: 32px;\n",
              "    }\n",
              "\n",
              "    .colab-df-convert:hover {\n",
              "      background-color: #E2EBFA;\n",
              "      box-shadow: 0px 1px 2px rgba(60, 64, 67, 0.3), 0px 1px 3px 1px rgba(60, 64, 67, 0.15);\n",
              "      fill: #174EA6;\n",
              "    }\n",
              "\n",
              "    [theme=dark] .colab-df-convert {\n",
              "      background-color: #3B4455;\n",
              "      fill: #D2E3FC;\n",
              "    }\n",
              "\n",
              "    [theme=dark] .colab-df-convert:hover {\n",
              "      background-color: #434B5C;\n",
              "      box-shadow: 0px 1px 3px 1px rgba(0, 0, 0, 0.15);\n",
              "      filter: drop-shadow(0px 1px 2px rgba(0, 0, 0, 0.3));\n",
              "      fill: #FFFFFF;\n",
              "    }\n",
              "  </style>\n",
              "\n",
              "      <script>\n",
              "        const buttonEl =\n",
              "          document.querySelector('#df-dc576367-3025-4052-8cbb-7699b24c5268 button.colab-df-convert');\n",
              "        buttonEl.style.display =\n",
              "          google.colab.kernel.accessAllowed ? 'block' : 'none';\n",
              "\n",
              "        async function convertToInteractive(key) {\n",
              "          const element = document.querySelector('#df-dc576367-3025-4052-8cbb-7699b24c5268');\n",
              "          const dataTable =\n",
              "            await google.colab.kernel.invokeFunction('convertToInteractive',\n",
              "                                                     [key], {});\n",
              "          if (!dataTable) return;\n",
              "\n",
              "          const docLinkHtml = 'Like what you see? Visit the ' +\n",
              "            '<a target=\"_blank\" href=https://colab.research.google.com/notebooks/data_table.ipynb>data table notebook</a>'\n",
              "            + ' to learn more about interactive tables.';\n",
              "          element.innerHTML = '';\n",
              "          dataTable['output_type'] = 'display_data';\n",
              "          await google.colab.output.renderOutput(dataTable, element);\n",
              "          const docLink = document.createElement('div');\n",
              "          docLink.innerHTML = docLinkHtml;\n",
              "          element.appendChild(docLink);\n",
              "        }\n",
              "      </script>\n",
              "    </div>\n",
              "  </div>\n",
              "  "
            ]
          },
          "metadata": {},
          "execution_count": 316
        }
      ]
    },
    {
      "cell_type": "code",
      "source": [
        "\n",
        "# Getting the playlist ID of the most recently made playlist so we can add songs to it later\n",
        "playlist_id = fetch_playlists(sp,username)['id'][0]"
      ],
      "metadata": {
        "id": "3fGBFI9dHtP9"
      },
      "execution_count": null,
      "outputs": []
    },
    {
      "cell_type": "code",
      "source": [
        "# Function to add selected songs to playlist\n",
        "def enrich_playlist(sp, username, playlist_id, playlist_tracks):\n",
        "    index = 0\n",
        "    results = []\n",
        "\n",
        "    while index < len(playlist_tracks):\n",
        "        results += sp.user_playlist_add_tracks(username, playlist_id, tracks = playlist_tracks[index:index + 50])\n",
        "        index += 50"
      ],
      "metadata": {
        "id": "hUpbQG30H0_X"
      },
      "execution_count": null,
      "outputs": []
    },
    {
      "cell_type": "code",
      "source": [
        "# Adding songs to playlist\n",
        "list_track = df.loc[df['predicition']  == 1]['track_id']\n",
        "enrich_playlist(sp, username, playlist_id, list_track)"
      ],
      "metadata": {
        "id": "pa3A38RhH62R"
      },
      "execution_count": null,
      "outputs": []
    },
    {
      "cell_type": "markdown",
      "source": [
        "Now check your Spotify playlists; you'll see a playlist titled 'Your New Jams'. Enjoy!"
      ],
      "metadata": {
        "id": "fwdac0gp_X-w"
      }
    }
  ]
}